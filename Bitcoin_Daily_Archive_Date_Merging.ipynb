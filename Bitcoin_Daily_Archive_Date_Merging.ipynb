{
 "cells": [
  {
   "cell_type": "markdown",
   "metadata": {},
   "source": [
    "## Bitcoin Daily and Archive data collection\n",
    "\n",
    "Dataset Sources : \n",
    "- Alphavantage website (Apr, 2014 to Nov,2018) :: https://www.alphavantage.co/documentation/\n",
    "- kaggle dataset (2009 to Sep 2018) :: https://www.kaggle.com/bhaskartripathi/bitcoin-time-series-all-time\n",
    "*Author : Ayesha Khatib*"
   ]
  },
  {
   "cell_type": "markdown",
   "metadata": {},
   "source": [
    "#### Import packages"
   ]
  },
  {
   "cell_type": "code",
   "execution_count": 3,
   "metadata": {},
   "outputs": [],
   "source": [
    "import datetime\n",
    "import numpy as np\n",
    "import pandas as pd\n",
    "import warnings\n",
    "import itertools\n",
    "import matplotlib.pyplot as plt\n",
    "warnings.filterwarnings(\"ignore\")\n",
    "plt.style.use('fivethirtyeight')\n",
    "import statsmodels.api as sm\n",
    "import matplotlib\n",
    "import dateutil.parser as dparser\n"
   ]
  },
  {
   "cell_type": "markdown",
   "metadata": {},
   "source": [
    "### Read the bitcoin datasets\n",
    "\n",
    "Daily data can be generated from other file : https://github.com/ayeshakhatib/Twitter-Sentiment-Analysis-on-Bitcoin-Price-fluctuations/blob/master/Bitcoin_Daily_Data_Collection.ipynb"
   ]
  },
  {
   "cell_type": "code",
   "execution_count": 4,
   "metadata": {},
   "outputs": [],
   "source": [
    "btc_df = pd.read_csv('./bitcoin_data/BlockChain_Train_csv.csv')\n",
    "btc_daily = pd.read_csv('./bitcoin_data/btc_daily.csv')"
   ]
  },
  {
   "cell_type": "code",
   "execution_count": 5,
   "metadata": {},
   "outputs": [
    {
     "data": {
      "text/html": [
       "<div>\n",
       "<style scoped>\n",
       "    .dataframe tbody tr th:only-of-type {\n",
       "        vertical-align: middle;\n",
       "    }\n",
       "\n",
       "    .dataframe tbody tr th {\n",
       "        vertical-align: top;\n",
       "    }\n",
       "\n",
       "    .dataframe thead th {\n",
       "        text-align: right;\n",
       "    }\n",
       "</style>\n",
       "<table border=\"1\" class=\"dataframe\">\n",
       "  <thead>\n",
       "    <tr style=\"text-align: right;\">\n",
       "      <th></th>\n",
       "      <th>Date</th>\n",
       "      <th>Close</th>\n",
       "      <th>USD_Exchange_Trade_Volume</th>\n",
       "      <th>Bitcoins_in_circulation</th>\n",
       "      <th>MarketCap</th>\n",
       "      <th>BlockSize</th>\n",
       "      <th>AvgBlockSize</th>\n",
       "      <th>Orphaned_Block</th>\n",
       "      <th>TransactionsPerBlock</th>\n",
       "      <th>MedianTransactCnfmTime</th>\n",
       "      <th>...</th>\n",
       "      <th>USD/JPY</th>\n",
       "      <th>USD/CHF</th>\n",
       "      <th>USD/KRW</th>\n",
       "      <th>USD/GBP</th>\n",
       "      <th>EUR/KRW</th>\n",
       "      <th>USD/CNY</th>\n",
       "      <th>Google Trends Interest</th>\n",
       "      <th>GTrends Normalized</th>\n",
       "      <th>US Federal funds rate</th>\n",
       "      <th>Breakeven Inflation Rate</th>\n",
       "    </tr>\n",
       "  </thead>\n",
       "  <tbody>\n",
       "    <tr>\n",
       "      <th>0</th>\n",
       "      <td>3-Jan-09</td>\n",
       "      <td>0.0</td>\n",
       "      <td>0.0</td>\n",
       "      <td>50.0</td>\n",
       "      <td>0.0</td>\n",
       "      <td>0.0</td>\n",
       "      <td>0.0</td>\n",
       "      <td>0</td>\n",
       "      <td>1.0</td>\n",
       "      <td>0.0</td>\n",
       "      <td>...</td>\n",
       "      <td>90.73</td>\n",
       "      <td>1.06</td>\n",
       "      <td>1269.75</td>\n",
       "      <td>0.69</td>\n",
       "      <td>1774.86</td>\n",
       "      <td>6.83</td>\n",
       "      <td>0</td>\n",
       "      <td>0.0</td>\n",
       "      <td>0.08</td>\n",
       "      <td>0.15</td>\n",
       "    </tr>\n",
       "    <tr>\n",
       "      <th>1</th>\n",
       "      <td>5-Jan-09</td>\n",
       "      <td>0.0</td>\n",
       "      <td>0.0</td>\n",
       "      <td>50.0</td>\n",
       "      <td>0.0</td>\n",
       "      <td>0.0</td>\n",
       "      <td>0.0</td>\n",
       "      <td>0</td>\n",
       "      <td>1.0</td>\n",
       "      <td>0.0</td>\n",
       "      <td>...</td>\n",
       "      <td>92.08</td>\n",
       "      <td>1.08</td>\n",
       "      <td>1326.15</td>\n",
       "      <td>0.69</td>\n",
       "      <td>1843.95</td>\n",
       "      <td>6.82</td>\n",
       "      <td>0</td>\n",
       "      <td>0.0</td>\n",
       "      <td>0.11</td>\n",
       "      <td>0.15</td>\n",
       "    </tr>\n",
       "  </tbody>\n",
       "</table>\n",
       "<p>2 rows × 65 columns</p>\n",
       "</div>"
      ],
      "text/plain": [
       "       Date  Close  USD_Exchange_Trade_Volume  Bitcoins_in_circulation  \\\n",
       "0  3-Jan-09    0.0                        0.0                     50.0   \n",
       "1  5-Jan-09    0.0                        0.0                     50.0   \n",
       "\n",
       "   MarketCap  BlockSize  AvgBlockSize  Orphaned_Block  TransactionsPerBlock  \\\n",
       "0        0.0        0.0           0.0               0                   1.0   \n",
       "1        0.0        0.0           0.0               0                   1.0   \n",
       "\n",
       "   MedianTransactCnfmTime            ...             USD/JPY  USD/CHF  \\\n",
       "0                     0.0            ...               90.73     1.06   \n",
       "1                     0.0            ...               92.08     1.08   \n",
       "\n",
       "   USD/KRW  USD/GBP  EUR/KRW  USD/CNY  Google Trends Interest  \\\n",
       "0  1269.75     0.69  1774.86     6.83                       0   \n",
       "1  1326.15     0.69  1843.95     6.82                       0   \n",
       "\n",
       "   GTrends Normalized  US Federal funds rate  Breakeven Inflation Rate  \n",
       "0                 0.0                   0.08                      0.15  \n",
       "1                 0.0                   0.11                      0.15  \n",
       "\n",
       "[2 rows x 65 columns]"
      ]
     },
     "execution_count": 5,
     "metadata": {},
     "output_type": "execute_result"
    }
   ],
   "source": [
    "# Print the head\n",
    "btc_df.head(2)"
   ]
  },
  {
   "cell_type": "code",
   "execution_count": 6,
   "metadata": {},
   "outputs": [
    {
     "data": {
      "text/html": [
       "<div>\n",
       "<style scoped>\n",
       "    .dataframe tbody tr th:only-of-type {\n",
       "        vertical-align: middle;\n",
       "    }\n",
       "\n",
       "    .dataframe tbody tr th {\n",
       "        vertical-align: top;\n",
       "    }\n",
       "\n",
       "    .dataframe thead th {\n",
       "        text-align: right;\n",
       "    }\n",
       "</style>\n",
       "<table border=\"1\" class=\"dataframe\">\n",
       "  <thead>\n",
       "    <tr style=\"text-align: right;\">\n",
       "      <th></th>\n",
       "      <th>Date</th>\n",
       "      <th>1a. open (AUD)</th>\n",
       "      <th>1b. open (USD)</th>\n",
       "      <th>2a. high (AUD)</th>\n",
       "      <th>2b. high (USD)</th>\n",
       "      <th>3a. low (AUD)</th>\n",
       "      <th>3b. low (USD)</th>\n",
       "      <th>4a. close (AUD)</th>\n",
       "      <th>4b. close (USD)</th>\n",
       "      <th>Volume</th>\n",
       "      <th>6. market cap (USD)</th>\n",
       "    </tr>\n",
       "  </thead>\n",
       "  <tbody>\n",
       "    <tr>\n",
       "      <th>0</th>\n",
       "      <td>2018-11-18</td>\n",
       "      <td>7492.189034</td>\n",
       "      <td>5496.244377</td>\n",
       "      <td>7626.229175</td>\n",
       "      <td>5591.077108</td>\n",
       "      <td>7484.897493</td>\n",
       "      <td>5492.418373</td>\n",
       "      <td>7597.821366</td>\n",
       "      <td>5558.554483</td>\n",
       "      <td>378.945507</td>\n",
       "      <td>2.106389e+06</td>\n",
       "    </tr>\n",
       "    <tr>\n",
       "      <th>1</th>\n",
       "      <td>2018-11-17</td>\n",
       "      <td>7584.473328</td>\n",
       "      <td>5562.450323</td>\n",
       "      <td>7584.473328</td>\n",
       "      <td>5562.450323</td>\n",
       "      <td>7460.055486</td>\n",
       "      <td>5472.671315</td>\n",
       "      <td>7489.009085</td>\n",
       "      <td>5493.911578</td>\n",
       "      <td>445.250283</td>\n",
       "      <td>2.446166e+06</td>\n",
       "    </tr>\n",
       "    <tr>\n",
       "      <th>2</th>\n",
       "      <td>2018-11-16</td>\n",
       "      <td>7713.451418</td>\n",
       "      <td>5610.321440</td>\n",
       "      <td>7754.338113</td>\n",
       "      <td>5643.085057</td>\n",
       "      <td>7486.662764</td>\n",
       "      <td>5490.716087</td>\n",
       "      <td>7575.802233</td>\n",
       "      <td>5556.090945</td>\n",
       "      <td>657.456297</td>\n",
       "      <td>3.652887e+06</td>\n",
       "    </tr>\n",
       "    <tr>\n",
       "      <th>3</th>\n",
       "      <td>2018-11-15</td>\n",
       "      <td>7880.303321</td>\n",
       "      <td>5697.870699</td>\n",
       "      <td>7932.051690</td>\n",
       "      <td>5767.716190</td>\n",
       "      <td>7283.846389</td>\n",
       "      <td>5293.904678</td>\n",
       "      <td>7708.359104</td>\n",
       "      <td>5607.531189</td>\n",
       "      <td>1222.408391</td>\n",
       "      <td>6.854693e+06</td>\n",
       "    </tr>\n",
       "    <tr>\n",
       "      <th>4</th>\n",
       "      <td>2018-11-14</td>\n",
       "      <td>8728.695620</td>\n",
       "      <td>6314.188010</td>\n",
       "      <td>8762.394534</td>\n",
       "      <td>6325.154411</td>\n",
       "      <td>7697.537831</td>\n",
       "      <td>5575.501833</td>\n",
       "      <td>7835.519523</td>\n",
       "      <td>5665.002240</td>\n",
       "      <td>1212.801094</td>\n",
       "      <td>6.870521e+06</td>\n",
       "    </tr>\n",
       "  </tbody>\n",
       "</table>\n",
       "</div>"
      ],
      "text/plain": [
       "         Date  1a. open (AUD)  1b. open (USD)  2a. high (AUD)  2b. high (USD)  \\\n",
       "0  2018-11-18     7492.189034     5496.244377     7626.229175     5591.077108   \n",
       "1  2018-11-17     7584.473328     5562.450323     7584.473328     5562.450323   \n",
       "2  2018-11-16     7713.451418     5610.321440     7754.338113     5643.085057   \n",
       "3  2018-11-15     7880.303321     5697.870699     7932.051690     5767.716190   \n",
       "4  2018-11-14     8728.695620     6314.188010     8762.394534     6325.154411   \n",
       "\n",
       "   3a. low (AUD)  3b. low (USD)  4a. close (AUD)  4b. close (USD)  \\\n",
       "0    7484.897493    5492.418373      7597.821366      5558.554483   \n",
       "1    7460.055486    5472.671315      7489.009085      5493.911578   \n",
       "2    7486.662764    5490.716087      7575.802233      5556.090945   \n",
       "3    7283.846389    5293.904678      7708.359104      5607.531189   \n",
       "4    7697.537831    5575.501833      7835.519523      5665.002240   \n",
       "\n",
       "        Volume  6. market cap (USD)  \n",
       "0   378.945507         2.106389e+06  \n",
       "1   445.250283         2.446166e+06  \n",
       "2   657.456297         3.652887e+06  \n",
       "3  1222.408391         6.854693e+06  \n",
       "4  1212.801094         6.870521e+06  "
      ]
     },
     "execution_count": 6,
     "metadata": {},
     "output_type": "execute_result"
    }
   ],
   "source": [
    "# Print the head\n",
    "btc_daily.head()"
   ]
  },
  {
   "cell_type": "code",
   "execution_count": 7,
   "metadata": {},
   "outputs": [
    {
     "data": {
      "text/plain": [
       "Index(['Date', '1a. open (AUD)', '1b. open (USD)', '2a. high (AUD)',\n",
       "       '2b. high (USD)', '3a. low (AUD)', '3b. low (USD)', '4a. close (AUD)',\n",
       "       '4b. close (USD)', 'Volume', '6. market cap (USD)'],\n",
       "      dtype='object')"
      ]
     },
     "execution_count": 7,
     "metadata": {},
     "output_type": "execute_result"
    }
   ],
   "source": [
    "# # Print the original columns\n",
    "btc_daily.columns"
   ]
  },
  {
   "cell_type": "code",
   "execution_count": 8,
   "metadata": {},
   "outputs": [],
   "source": [
    "# Define a new dataframe and only choose the required columns.\n",
    "\n",
    "btc_daily_usd=pd.DataFrame()\n",
    "\n",
    "# select the columns\n",
    "btc_daily_usd['Date'] = btc_daily['Date']\n",
    "btc_daily_usd['Close'] = btc_daily['4b. close (USD)']\n",
    "btc_daily_usd['Market_Cap'] = btc_daily['6. market cap (USD)']\n",
    "btc_daily_usd['Volume'] = btc_daily['Volume']"
   ]
  },
  {
   "cell_type": "code",
   "execution_count": 9,
   "metadata": {},
   "outputs": [],
   "source": [
    "btc_daily_usd['Date'] = pd.to_datetime(btc_daily_usd['Date'])"
   ]
  },
  {
   "cell_type": "code",
   "execution_count": 10,
   "metadata": {},
   "outputs": [
    {
     "data": {
      "text/html": [
       "<div>\n",
       "<style scoped>\n",
       "    .dataframe tbody tr th:only-of-type {\n",
       "        vertical-align: middle;\n",
       "    }\n",
       "\n",
       "    .dataframe tbody tr th {\n",
       "        vertical-align: top;\n",
       "    }\n",
       "\n",
       "    .dataframe thead th {\n",
       "        text-align: right;\n",
       "    }\n",
       "</style>\n",
       "<table border=\"1\" class=\"dataframe\">\n",
       "  <thead>\n",
       "    <tr style=\"text-align: right;\">\n",
       "      <th></th>\n",
       "      <th>Date</th>\n",
       "      <th>Close</th>\n",
       "      <th>Market_Cap</th>\n",
       "      <th>Volume</th>\n",
       "    </tr>\n",
       "  </thead>\n",
       "  <tbody>\n",
       "    <tr>\n",
       "      <th>0</th>\n",
       "      <td>2018-11-18</td>\n",
       "      <td>5558.554483</td>\n",
       "      <td>2.106389e+06</td>\n",
       "      <td>378.945507</td>\n",
       "    </tr>\n",
       "    <tr>\n",
       "      <th>1</th>\n",
       "      <td>2018-11-17</td>\n",
       "      <td>5493.911578</td>\n",
       "      <td>2.446166e+06</td>\n",
       "      <td>445.250283</td>\n",
       "    </tr>\n",
       "    <tr>\n",
       "      <th>2</th>\n",
       "      <td>2018-11-16</td>\n",
       "      <td>5556.090945</td>\n",
       "      <td>3.652887e+06</td>\n",
       "      <td>657.456297</td>\n",
       "    </tr>\n",
       "    <tr>\n",
       "      <th>3</th>\n",
       "      <td>2018-11-15</td>\n",
       "      <td>5607.531189</td>\n",
       "      <td>6.854693e+06</td>\n",
       "      <td>1222.408391</td>\n",
       "    </tr>\n",
       "    <tr>\n",
       "      <th>4</th>\n",
       "      <td>2018-11-14</td>\n",
       "      <td>5665.002240</td>\n",
       "      <td>6.870521e+06</td>\n",
       "      <td>1212.801094</td>\n",
       "    </tr>\n",
       "  </tbody>\n",
       "</table>\n",
       "</div>"
      ],
      "text/plain": [
       "        Date        Close    Market_Cap       Volume\n",
       "0 2018-11-18  5558.554483  2.106389e+06   378.945507\n",
       "1 2018-11-17  5493.911578  2.446166e+06   445.250283\n",
       "2 2018-11-16  5556.090945  3.652887e+06   657.456297\n",
       "3 2018-11-15  5607.531189  6.854693e+06  1222.408391\n",
       "4 2018-11-14  5665.002240  6.870521e+06  1212.801094"
      ]
     },
     "execution_count": 10,
     "metadata": {},
     "output_type": "execute_result"
    }
   ],
   "source": [
    "# Print the head\n",
    "btc_daily_usd.head()"
   ]
  },
  {
   "cell_type": "code",
   "execution_count": 11,
   "metadata": {},
   "outputs": [
    {
     "data": {
      "text/plain": [
       "(1693, 4)"
      ]
     },
     "execution_count": 11,
     "metadata": {},
     "output_type": "execute_result"
    }
   ],
   "source": [
    "# Dataframe # 1\n",
    "btc_daily_usd.shape"
   ]
  },
  {
   "cell_type": "code",
   "execution_count": 12,
   "metadata": {},
   "outputs": [],
   "source": [
    "btc_daily_usd.to_csv('./btc_daily_usd.csv')"
   ]
  },
  {
   "cell_type": "code",
   "execution_count": 13,
   "metadata": {},
   "outputs": [],
   "source": [
    "# Define a new dataframe and only choose the required columns.\n",
    "btc_data=pd.DataFrame()\n",
    "\n",
    "# select the columns\n",
    "btc_data['Date'] = btc_df['Date']\n",
    "btc_data['Close'] = btc_df['Close']\n",
    "btc_data['Market_Cap'] = btc_df['MarketCap']\n",
    "btc_data['Volume'] = btc_df['USD_Exchange_Trade_Volume']"
   ]
  },
  {
   "cell_type": "code",
   "execution_count": 14,
   "metadata": {},
   "outputs": [],
   "source": [
    "btc_data['Date'] = pd.to_datetime(btc_data['Date'])"
   ]
  },
  {
   "cell_type": "code",
   "execution_count": 15,
   "metadata": {},
   "outputs": [
    {
     "data": {
      "text/plain": [
       "(1773, 4)"
      ]
     },
     "execution_count": 15,
     "metadata": {},
     "output_type": "execute_result"
    }
   ],
   "source": [
    "# Dataframe # 2\n",
    "btc_data.shape"
   ]
  },
  {
   "cell_type": "code",
   "execution_count": 16,
   "metadata": {},
   "outputs": [
    {
     "data": {
      "text/html": [
       "<div>\n",
       "<style scoped>\n",
       "    .dataframe tbody tr th:only-of-type {\n",
       "        vertical-align: middle;\n",
       "    }\n",
       "\n",
       "    .dataframe tbody tr th {\n",
       "        vertical-align: top;\n",
       "    }\n",
       "\n",
       "    .dataframe thead th {\n",
       "        text-align: right;\n",
       "    }\n",
       "</style>\n",
       "<table border=\"1\" class=\"dataframe\">\n",
       "  <thead>\n",
       "    <tr style=\"text-align: right;\">\n",
       "      <th></th>\n",
       "      <th>Date</th>\n",
       "      <th>Close</th>\n",
       "      <th>Market_Cap</th>\n",
       "      <th>Volume</th>\n",
       "    </tr>\n",
       "  </thead>\n",
       "  <tbody>\n",
       "    <tr>\n",
       "      <th>1768</th>\n",
       "      <td>2018-09-09</td>\n",
       "      <td>6286.43</td>\n",
       "      <td>1.080000e+11</td>\n",
       "      <td>291261346.9</td>\n",
       "    </tr>\n",
       "    <tr>\n",
       "      <th>1769</th>\n",
       "      <td>2018-09-11</td>\n",
       "      <td>6296.32</td>\n",
       "      <td>1.090000e+11</td>\n",
       "      <td>290980772.8</td>\n",
       "    </tr>\n",
       "    <tr>\n",
       "      <th>1770</th>\n",
       "      <td>2018-09-13</td>\n",
       "      <td>6450.18</td>\n",
       "      <td>1.110000e+11</td>\n",
       "      <td>321882304.6</td>\n",
       "    </tr>\n",
       "    <tr>\n",
       "      <th>1771</th>\n",
       "      <td>2018-09-15</td>\n",
       "      <td>6518.66</td>\n",
       "      <td>1.130000e+11</td>\n",
       "      <td>360631436.3</td>\n",
       "    </tr>\n",
       "    <tr>\n",
       "      <th>1772</th>\n",
       "      <td>2018-09-17</td>\n",
       "      <td>6400.60</td>\n",
       "      <td>1.110000e+11</td>\n",
       "      <td>181083665.0</td>\n",
       "    </tr>\n",
       "  </tbody>\n",
       "</table>\n",
       "</div>"
      ],
      "text/plain": [
       "           Date    Close    Market_Cap       Volume\n",
       "1768 2018-09-09  6286.43  1.080000e+11  291261346.9\n",
       "1769 2018-09-11  6296.32  1.090000e+11  290980772.8\n",
       "1770 2018-09-13  6450.18  1.110000e+11  321882304.6\n",
       "1771 2018-09-15  6518.66  1.130000e+11  360631436.3\n",
       "1772 2018-09-17  6400.60  1.110000e+11  181083665.0"
      ]
     },
     "execution_count": 16,
     "metadata": {},
     "output_type": "execute_result"
    }
   ],
   "source": [
    "# Print the tail\n",
    "btc_data.tail()"
   ]
  },
  {
   "cell_type": "code",
   "execution_count": 17,
   "metadata": {},
   "outputs": [],
   "source": [
    "# Concat the Dataframe 1 & 2\n",
    "btc_all = pd.concat([btc_data,btc_daily_usd],ignore_index=True)"
   ]
  },
  {
   "cell_type": "code",
   "execution_count": 18,
   "metadata": {},
   "outputs": [
    {
     "data": {
      "text/plain": [
       "(3466, 4)"
      ]
     },
     "execution_count": 18,
     "metadata": {},
     "output_type": "execute_result"
    }
   ],
   "source": [
    "# Dataframe shape\n",
    "btc_all.shape"
   ]
  },
  {
   "cell_type": "code",
   "execution_count": 19,
   "metadata": {},
   "outputs": [],
   "source": [
    "btc_all = btc_all.drop_duplicates(subset='Date',keep='last')"
   ]
  },
  {
   "cell_type": "code",
   "execution_count": 20,
   "metadata": {},
   "outputs": [
    {
     "data": {
      "text/plain": [
       "(2650, 4)"
      ]
     },
     "execution_count": 20,
     "metadata": {},
     "output_type": "execute_result"
    }
   ],
   "source": [
    "# Dataframe shape\n",
    "btc_all.shape"
   ]
  },
  {
   "cell_type": "code",
   "execution_count": 21,
   "metadata": {},
   "outputs": [],
   "source": [
    "#btc_all.to_csv('./btc_all_data.csv', encoding='utf-8')"
   ]
  },
  {
   "cell_type": "code",
   "execution_count": 22,
   "metadata": {},
   "outputs": [],
   "source": [
    "btc_all.to_csv('./btc_all_updated.csv', encoding='utf-8')"
   ]
  },
  {
   "cell_type": "code",
   "execution_count": 23,
   "metadata": {},
   "outputs": [],
   "source": [
    "bitcoin_df=pd.read_csv('./bitcoin_data/btc_all_updated.csv')"
   ]
  },
  {
   "cell_type": "code",
   "execution_count": 52,
   "metadata": {},
   "outputs": [
    {
     "data": {
      "text/html": [
       "<div>\n",
       "<style scoped>\n",
       "    .dataframe tbody tr th:only-of-type {\n",
       "        vertical-align: middle;\n",
       "    }\n",
       "\n",
       "    .dataframe tbody tr th {\n",
       "        vertical-align: top;\n",
       "    }\n",
       "\n",
       "    .dataframe thead th {\n",
       "        text-align: right;\n",
       "    }\n",
       "</style>\n",
       "<table border=\"1\" class=\"dataframe\">\n",
       "  <thead>\n",
       "    <tr style=\"text-align: right;\">\n",
       "      <th></th>\n",
       "      <th>Date</th>\n",
       "      <th>Close</th>\n",
       "      <th>Market_Cap</th>\n",
       "      <th>Volume</th>\n",
       "    </tr>\n",
       "  </thead>\n",
       "  <tbody>\n",
       "    <tr>\n",
       "      <th>0</th>\n",
       "      <td>2/01/2013</td>\n",
       "      <td>13.40</td>\n",
       "      <td>142323745.0</td>\n",
       "      <td>712505.74</td>\n",
       "    </tr>\n",
       "    <tr>\n",
       "      <th>1</th>\n",
       "      <td>4/01/2013</td>\n",
       "      <td>13.49</td>\n",
       "      <td>143379675.0</td>\n",
       "      <td>841973.34</td>\n",
       "    </tr>\n",
       "    <tr>\n",
       "      <th>2</th>\n",
       "      <td>6/01/2013</td>\n",
       "      <td>13.53</td>\n",
       "      <td>143904635.4</td>\n",
       "      <td>425231.70</td>\n",
       "    </tr>\n",
       "    <tr>\n",
       "      <th>3</th>\n",
       "      <td>8/01/2013</td>\n",
       "      <td>13.83</td>\n",
       "      <td>147203062.5</td>\n",
       "      <td>400256.34</td>\n",
       "    </tr>\n",
       "    <tr>\n",
       "      <th>4</th>\n",
       "      <td>10/01/2013</td>\n",
       "      <td>14.32</td>\n",
       "      <td>152518740.0</td>\n",
       "      <td>778992.83</td>\n",
       "    </tr>\n",
       "  </tbody>\n",
       "</table>\n",
       "</div>"
      ],
      "text/plain": [
       "         Date  Close   Market_Cap     Volume\n",
       "0   2/01/2013  13.40  142323745.0  712505.74\n",
       "1   4/01/2013  13.49  143379675.0  841973.34\n",
       "2   6/01/2013  13.53  143904635.4  425231.70\n",
       "3   8/01/2013  13.83  147203062.5  400256.34\n",
       "4  10/01/2013  14.32  152518740.0  778992.83"
      ]
     },
     "execution_count": 52,
     "metadata": {},
     "output_type": "execute_result"
    }
   ],
   "source": [
    "#bitcoin_df.drop(['Unnamed: 0'],axis=1,inplace=True)\n",
    "#bitcoin_df.drop(['Unnamed: 5'],axis=1,inplace=True)\n",
    "bitcoin_df.head()"
   ]
  },
  {
   "cell_type": "code",
   "execution_count": 27,
   "metadata": {},
   "outputs": [
    {
     "data": {
      "text/plain": [
       "Date           object\n",
       "Close         float64\n",
       "Market_Cap    float64\n",
       "Volume        float64\n",
       "Unnamed: 5    float64\n",
       "dtype: object"
      ]
     },
     "execution_count": 27,
     "metadata": {},
     "output_type": "execute_result"
    }
   ],
   "source": [
    "# dtypes of the dataframe.\n",
    "bitcoin_df.dtypes"
   ]
  },
  {
   "cell_type": "code",
   "execution_count": 50,
   "metadata": {},
   "outputs": [
    {
     "data": {
      "text/html": [
       "<div>\n",
       "<style scoped>\n",
       "    .dataframe tbody tr th:only-of-type {\n",
       "        vertical-align: middle;\n",
       "    }\n",
       "\n",
       "    .dataframe tbody tr th {\n",
       "        vertical-align: top;\n",
       "    }\n",
       "\n",
       "    .dataframe thead th {\n",
       "        text-align: right;\n",
       "    }\n",
       "</style>\n",
       "<table border=\"1\" class=\"dataframe\">\n",
       "  <thead>\n",
       "    <tr style=\"text-align: right;\">\n",
       "      <th></th>\n",
       "      <th>Date</th>\n",
       "      <th>Close</th>\n",
       "      <th>Market_Cap</th>\n",
       "      <th>Volume</th>\n",
       "    </tr>\n",
       "  </thead>\n",
       "  <tbody>\n",
       "    <tr>\n",
       "      <th>0</th>\n",
       "      <td>2/01/2013</td>\n",
       "      <td>13.40</td>\n",
       "      <td>142323745.0</td>\n",
       "      <td>712505.74</td>\n",
       "    </tr>\n",
       "    <tr>\n",
       "      <th>1</th>\n",
       "      <td>4/01/2013</td>\n",
       "      <td>13.49</td>\n",
       "      <td>143379675.0</td>\n",
       "      <td>841973.34</td>\n",
       "    </tr>\n",
       "    <tr>\n",
       "      <th>2</th>\n",
       "      <td>6/01/2013</td>\n",
       "      <td>13.53</td>\n",
       "      <td>143904635.4</td>\n",
       "      <td>425231.70</td>\n",
       "    </tr>\n",
       "    <tr>\n",
       "      <th>3</th>\n",
       "      <td>8/01/2013</td>\n",
       "      <td>13.83</td>\n",
       "      <td>147203062.5</td>\n",
       "      <td>400256.34</td>\n",
       "    </tr>\n",
       "    <tr>\n",
       "      <th>4</th>\n",
       "      <td>10/01/2013</td>\n",
       "      <td>14.32</td>\n",
       "      <td>152518740.0</td>\n",
       "      <td>778992.83</td>\n",
       "    </tr>\n",
       "    <tr>\n",
       "      <th>5</th>\n",
       "      <td>12/01/2013</td>\n",
       "      <td>14.35</td>\n",
       "      <td>152924255.9</td>\n",
       "      <td>1029162.05</td>\n",
       "    </tr>\n",
       "    <tr>\n",
       "      <th>6</th>\n",
       "      <td>14/01/2013</td>\n",
       "      <td>14.30</td>\n",
       "      <td>152490195.0</td>\n",
       "      <td>474366.16</td>\n",
       "    </tr>\n",
       "    <tr>\n",
       "      <th>7</th>\n",
       "      <td>16/01/2013</td>\n",
       "      <td>14.69</td>\n",
       "      <td>156730161.1</td>\n",
       "      <td>1170901.62</td>\n",
       "    </tr>\n",
       "    <tr>\n",
       "      <th>8</th>\n",
       "      <td>18/01/2013</td>\n",
       "      <td>15.99</td>\n",
       "      <td>170657458.5</td>\n",
       "      <td>3489818.14</td>\n",
       "    </tr>\n",
       "    <tr>\n",
       "      <th>9</th>\n",
       "      <td>20/01/2013</td>\n",
       "      <td>15.89</td>\n",
       "      <td>169751678.3</td>\n",
       "      <td>669916.27</td>\n",
       "    </tr>\n",
       "  </tbody>\n",
       "</table>\n",
       "</div>"
      ],
      "text/plain": [
       "         Date  Close   Market_Cap      Volume\n",
       "0   2/01/2013  13.40  142323745.0   712505.74\n",
       "1   4/01/2013  13.49  143379675.0   841973.34\n",
       "2   6/01/2013  13.53  143904635.4   425231.70\n",
       "3   8/01/2013  13.83  147203062.5   400256.34\n",
       "4  10/01/2013  14.32  152518740.0   778992.83\n",
       "5  12/01/2013  14.35  152924255.9  1029162.05\n",
       "6  14/01/2013  14.30  152490195.0   474366.16\n",
       "7  16/01/2013  14.69  156730161.1  1170901.62\n",
       "8  18/01/2013  15.99  170657458.5  3489818.14\n",
       "9  20/01/2013  15.89  169751678.3   669916.27"
      ]
     },
     "execution_count": 50,
     "metadata": {},
     "output_type": "execute_result"
    }
   ],
   "source": [
    "bitcoin_df.head(10)"
   ]
  },
  {
   "cell_type": "code",
   "execution_count": 29,
   "metadata": {},
   "outputs": [
    {
     "data": {
      "text/plain": [
       "Unnamed: 5    1920\n",
       "Volume           0\n",
       "Market_Cap       0\n",
       "Close            0\n",
       "Date             0\n",
       "dtype: int64"
      ]
     },
     "execution_count": 29,
     "metadata": {},
     "output_type": "execute_result"
    }
   ],
   "source": [
    "bitcoin_df.isnull().sum().sort_values(ascending=False)"
   ]
  },
  {
   "cell_type": "markdown",
   "metadata": {},
   "source": [
    "### Visualization of Bitcoin Price from Year 2009 to 2018"
   ]
  },
  {
   "cell_type": "code",
   "execution_count": 30,
   "metadata": {},
   "outputs": [
    {
     "data": {
      "text/html": [
       "<div>\n",
       "<style scoped>\n",
       "    .dataframe tbody tr th:only-of-type {\n",
       "        vertical-align: middle;\n",
       "    }\n",
       "\n",
       "    .dataframe tbody tr th {\n",
       "        vertical-align: top;\n",
       "    }\n",
       "\n",
       "    .dataframe thead th {\n",
       "        text-align: right;\n",
       "    }\n",
       "</style>\n",
       "<table border=\"1\" class=\"dataframe\">\n",
       "  <thead>\n",
       "    <tr style=\"text-align: right;\">\n",
       "      <th></th>\n",
       "      <th>Date</th>\n",
       "      <th>Close</th>\n",
       "      <th>Market_Cap</th>\n",
       "      <th>Volume</th>\n",
       "      <th>Unnamed: 5</th>\n",
       "    </tr>\n",
       "  </thead>\n",
       "  <tbody>\n",
       "    <tr>\n",
       "      <th>0</th>\n",
       "      <td>2/01/2013</td>\n",
       "      <td>13.40</td>\n",
       "      <td>142323745.0</td>\n",
       "      <td>712505.74</td>\n",
       "      <td>NaN</td>\n",
       "    </tr>\n",
       "    <tr>\n",
       "      <th>1</th>\n",
       "      <td>4/01/2013</td>\n",
       "      <td>13.49</td>\n",
       "      <td>143379675.0</td>\n",
       "      <td>841973.34</td>\n",
       "      <td>NaN</td>\n",
       "    </tr>\n",
       "    <tr>\n",
       "      <th>2</th>\n",
       "      <td>6/01/2013</td>\n",
       "      <td>13.53</td>\n",
       "      <td>143904635.4</td>\n",
       "      <td>425231.70</td>\n",
       "      <td>NaN</td>\n",
       "    </tr>\n",
       "    <tr>\n",
       "      <th>3</th>\n",
       "      <td>8/01/2013</td>\n",
       "      <td>13.83</td>\n",
       "      <td>147203062.5</td>\n",
       "      <td>400256.34</td>\n",
       "      <td>NaN</td>\n",
       "    </tr>\n",
       "    <tr>\n",
       "      <th>4</th>\n",
       "      <td>10/01/2013</td>\n",
       "      <td>14.32</td>\n",
       "      <td>152518740.0</td>\n",
       "      <td>778992.83</td>\n",
       "      <td>NaN</td>\n",
       "    </tr>\n",
       "  </tbody>\n",
       "</table>\n",
       "</div>"
      ],
      "text/plain": [
       "         Date  Close   Market_Cap     Volume  Unnamed: 5\n",
       "0   2/01/2013  13.40  142323745.0  712505.74         NaN\n",
       "1   4/01/2013  13.49  143379675.0  841973.34         NaN\n",
       "2   6/01/2013  13.53  143904635.4  425231.70         NaN\n",
       "3   8/01/2013  13.83  147203062.5  400256.34         NaN\n",
       "4  10/01/2013  14.32  152518740.0  778992.83         NaN"
      ]
     },
     "execution_count": 30,
     "metadata": {},
     "output_type": "execute_result"
    }
   ],
   "source": [
    "bitcoin_df.head()"
   ]
  },
  {
   "cell_type": "code",
   "execution_count": 31,
   "metadata": {},
   "outputs": [
    {
     "data": {
      "image/png": "[encoded data removed]",
      "text/plain": [
       "<Figure size 432x288 with 1 Axes>"
      ]
     },
     "metadata": {},
     "output_type": "display_data"
    },
    {
     "data": {
      "text/plain": [
       "<Figure size 720x432 with 0 Axes>"
      ]
     },
     "metadata": {},
     "output_type": "display_data"
    }
   ],
   "source": [
    "xs = [x for x in bitcoin_df['Date']]\n",
    "ys = [x for x in bitcoin_df['Close']]\n",
    "plt.plot(xs, ys)\n",
    "plt.xlabel('Years',fontsize=14, color='red')\n",
    "plt.ylabel('Bitcoin Price')\n",
    "plt.figure(figsize=(10, 6))\n",
    "#plt.gcf().autofmt_xdate()\n",
    "plt.show()"
   ]
  },
  {
   "cell_type": "markdown",
   "metadata": {},
   "source": [
    "### Time-series Visualization"
   ]
  },
  {
   "cell_type": "code",
   "execution_count": 38,
   "metadata": {},
   "outputs": [
    {
     "data": {
      "image/png": "[encoded data removed]",
      "text/plain": [
       "<Figure size 1152x288 with 1 Axes>"
      ]
     },
     "metadata": {},
     "output_type": "display_data"
    }
   ],
   "source": [
    "time_btc = pd.Series(data=bitcoin_df['Close'].values.astype('float'),index=bitcoin_df.index)\n",
    "time_btc.plot(figsize=(16, 4), label=\"Bitcoin Price\", legend=True,color='b')\n",
    "plt.show()"
   ]
  },
  {
   "cell_type": "code",
   "execution_count": 41,
   "metadata": {},
   "outputs": [
    {
     "data": {
      "image/png": "[encoded data removed]",
      "text/plain": [
       "<Figure size 1152x288 with 1 Axes>"
      ]
     },
     "metadata": {},
     "output_type": "display_data"
    }
   ],
   "source": [
    "time_btc = pd.Series(data=bitcoin_df['Volume'].values.astype('float'),index=bitcoin_df.index)\n",
    "time_btc.plot(figsize=(16, 4), label=\"Transaction Volume\", legend=True,color='r')\n",
    "plt.show()"
   ]
  },
  {
   "cell_type": "code",
   "execution_count": 42,
   "metadata": {},
   "outputs": [
    {
     "data": {
      "image/png": "[encoded data removed]",
      "text/plain": [
       "<Figure size 1152x288 with 1 Axes>"
      ]
     },
     "metadata": {},
     "output_type": "display_data"
    }
   ],
   "source": [
    "time_btc = pd.Series(data=bitcoin_df['Market_Cap'].values.astype('float'),index=bitcoin_df.index)\n",
    "time_btc.plot(figsize=(16, 4), label=\"Market Capacity\", legend=True,color='g')\n",
    "plt.show()"
   ]
  },
  {
   "cell_type": "code",
   "execution_count": null,
   "metadata": {},
   "outputs": [],
   "source": []
  }
 ],
 "metadata": {
  "kernelspec": {
   "display_name": "Python 3",
   "language": "python",
   "name": "python3"
  },
  "language_info": {
   "codemirror_mode": {
    "name": "ipython",
    "version": 3
   },
   "file_extension": ".py",
   "mimetype": "text/x-python",
   "name": "python",
   "nbconvert_exporter": "python",
   "pygments_lexer": "ipython3",
   "version": "3.6.5"
  }
 },
 "nbformat": 4,
 "nbformat_minor": 2
}
