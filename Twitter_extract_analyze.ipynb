{
 "cells": [
  {
   "cell_type": "markdown",
   "metadata": {},
   "source": [
    "# TWITTER  DATA COLLECTION & SENTIMENT ANALYSIS"
   ]
  },
  {
   "cell_type": "markdown",
   "metadata": {},
   "source": [
    "Author : Ayesha Khatib"
   ]
  },
  {
   "cell_type": "markdown",
   "metadata": {},
   "source": [
    "### Import packages"
   ]
  },
  {
   "cell_type": "code",
   "execution_count": 23,
   "metadata": {},
   "outputs": [],
   "source": [
    "from tweepy import API \n",
    "from tweepy import Cursor\n",
    "from tweepy.streaming import StreamListener\n",
    "from tweepy import OAuthHandler\n",
    "from tweepy import Stream\n",
    "from textblob import TextBlob \n",
    "\n",
    "import twitter_credentials\n",
    "import numpy as np\n",
    "import pandas as pd\n",
    "import re \n",
    "import json\n",
    "import datetime\n",
    "import traceback\n",
    "import sys \n",
    "import matplotlib.pyplot as plt\n",
    "import matplotlib.animation as animation\n",
    "from matplotlib import style\n",
    "import time\n",
    "import seaborn as sns\n",
    "from textblob import TextBlob as tb\n"
   ]
  },
  {
   "cell_type": "markdown",
   "metadata": {},
   "source": [
    "### TWITTER CLIENT"
   ]
  },
  {
   "cell_type": "code",
   "execution_count": 24,
   "metadata": {},
   "outputs": [],
   "source": [
    "class TwitterClient():\n",
    "    def __init__(self, twitter_user=None):\n",
    "        self.auth = TwitterAuthenticator().authenticate_twitter_app()\n",
    "        self.twitter_client = API(self.auth)\n",
    "\n",
    "        self.twitter_user = twitter_user\n",
    "\n",
    "    def get_twitter_client_api(self):\n",
    "        return self.twitter_client\n",
    "\n",
    "    def get_user_timeline_tweets(self, num_tweets):\n",
    "        tweets = []\n",
    "        for tweet in Cursor(self.twitter_client.user_timeline, id=self.twitter_user).items(num_tweets):\n",
    "            tweets.append(tweet)\n",
    "        return tweets\n",
    "\n",
    "    def get_friend_list(self, num_friends):\n",
    "        friend_list = []\n",
    "        for friend in Cursor(self.twitter_client.friends, id=self.twitter_user).items(num_friends):\n",
    "            friend_list.append(friend)\n",
    "        return friend_list\n",
    "\n",
    "    def get_home_timeline_tweets(self, num_tweets):\n",
    "        home_timeline_tweets = []\n",
    "        for tweet in Cursor(self.twitter_client.home_timeline, id=self.twitter_user).items(num_tweets):\n",
    "            home_timeline_tweets.append(tweet)\n",
    "        return home_timeline_tweets"
   ]
  },
  {
   "cell_type": "markdown",
   "metadata": {},
   "source": [
    "### TWITTER AUTHENTICATER"
   ]
  },
  {
   "cell_type": "code",
   "execution_count": 25,
   "metadata": {},
   "outputs": [],
   "source": [
    "class TwitterAuthenticator():\n",
    "\n",
    "    def authenticate_twitter_app(self):\n",
    "        auth = OAuthHandler(twitter_credentials.CONSUMER_KEY, twitter_credentials.CONSUMER_SECRET)\n",
    "        auth.set_access_token(twitter_credentials.ACCESS_TOKEN, twitter_credentials.ACCESS_TOKEN_SECRET)\n",
    "        return auth"
   ]
  },
  {
   "cell_type": "markdown",
   "metadata": {},
   "source": [
    "### TWITTER STREAMER"
   ]
  },
  {
   "cell_type": "code",
   "execution_count": 26,
   "metadata": {},
   "outputs": [],
   "source": [
    "class TwitterStreamer():\n",
    "    \n",
    "    #Class for streaming and processing live tweets.\n",
    "    \n",
    "    def __init__(self):\n",
    "        self.twitter_autenticator = TwitterAuthenticator()    \n",
    "\n",
    "    def stream_tweets(self, fetched_tweets_filename):\n",
    " # This handles Twitter authetification and the connection to Twitter Streaming API\n",
    "        listener = TwitterListener(fetched_tweets_filename)\n",
    "        auth = self.twitter_autenticator.authenticate_twitter_app() \n",
    "        stream = Stream(auth, listener,tweet_mode='extended')\n",
    "\n",
    "        # This line filter Twitter Streams to capture data by the keywords: \n",
    "        stream.filter(track = ['BTC','bitcoin'])"
   ]
  },
  {
   "cell_type": "markdown",
   "metadata": {},
   "source": [
    "### TWEET COLLECTION"
   ]
  },
  {
   "cell_type": "code",
   "execution_count": 27,
   "metadata": {},
   "outputs": [],
   "source": [
    "class Tweet:\n",
    "    def __init__(self, text, sentiment_text, polarity, created_at):\n",
    "        self.text = text\n",
    "        self.sentiment_text = sentiment_text\n",
    "        self.polarity = polarity\n",
    "        self.created_at = created_at\n",
    "\n",
    "    def __str__(self):\n",
    "        return 'Sentiment: {} {} \\nText: {}\\nCreated_At: {}\\n'.format(self.sentiment_text, self.polarity, self.text, self.created_at)\n"
   ]
  },
  {
   "cell_type": "markdown",
   "metadata": {},
   "source": [
    "### TWITTER STREAM LISTENER"
   ]
  },
  {
   "cell_type": "code",
   "execution_count": 28,
   "metadata": {},
   "outputs": [],
   "source": [
    "\n",
    "class TwitterListener(StreamListener):\n",
    "    \"\"\"\n",
    "    This is a basic listener that just prints received tweets to stdout.\n",
    "    \"\"\"\n",
    "    def __init__(self, fetched_tweets_filename):\n",
    "        self.fetched_tweets_filename = fetched_tweets_filename\n",
    "\n",
    "    def on_data(self, data):\n",
    "        try:\n",
    "            print(data)\n",
    "            with open(self.fetched_tweets_filename, 'a') as tf:\n",
    "                tf.write(data)\n",
    "            return True\n",
    "        except BaseException as e:\n",
    "            print(\"Error on_data %s\" % str(e))\n",
    "        return True\n",
    "          \n",
    "    def on_error(self, status):\n",
    "        if status == 420:\n",
    "            # Returning False on_data method in case rate limit occurs.\n",
    "            return False\n",
    "        print(status)"
   ]
  },
  {
   "cell_type": "markdown",
   "metadata": {},
   "source": [
    "### TWITTER ANALYZER -- TWEET CLEANING , SENTIMENT ANALYSIS & save to dataframe"
   ]
  },
  {
   "cell_type": "code",
   "execution_count": 29,
   "metadata": {},
   "outputs": [],
   "source": [
    "class TweetAnalyzer():\n",
    "    \n",
    "    # Functionality for analyzing and categorizing content from tweets.\n",
    "    \n",
    "    def clean_tweet(self, tweet):\n",
    "        return ' '.join(re.sub(\"(@[A-Za-z0-9]+)|([^0-9A-Za-z \\t])|(\\w+:\\/\\/\\S+)\", \" \", tweet).split())\n",
    "\n",
    "    def analyze_sentiment(self, tweet):\n",
    "        analysis = TextBlob(self.clean_tweet(tweet))\n",
    "        #sentiment= None\n",
    "        if analysis.sentiment.polarity > 0:\n",
    "            return 'positive'\n",
    "        elif analysis.sentiment.polarity == 0:\n",
    "            return 'neutral'\n",
    "        else:\n",
    "            return 'negative'\n",
    "        \n",
    "\n",
    "    def tweets_to_data_frame(self, tweets):\n",
    "        df = pd.DataFrame(data=[tweet.text for tweet in tweets], columns=['tweets'])\n",
    "        df['id'] = np.array([tweet.id for tweet in tweets])\n",
    "        df['len'] = np.array([len(tweet.text) for tweet in tweets])\n",
    "        df['date'] = np.array([tweet.created_at for tweet in tweets])\n",
    "        df['source'] = np.array([tweet.source for tweet in tweets])\n",
    "        df['likes'] = np.array([tweet.favorite_count for tweet in tweets])\n",
    "        df['retweets'] = np.array([tweet.retweet_count for tweet in tweets])\n",
    "        #df['hashtags'] = np.array([tweet['entities']['hashtags'] for tweet in tweets])\n",
    "        \n",
    "        return df"
   ]
  },
  {
   "cell_type": "raw",
   "metadata": {},
   "source": [
    "#data = tweepy.Cursor(api.search, q, since=a[i], until=b[i]).items()\n",
    "    tweet_data = []\n",
    "    tweets = pd.DataFrame()\n",
    "    tweets['Tweet_ID'] = map(lambda tweet: tweet['id'], tweet_data)\n",
    "    tweets['Tweet'] = map(lambda tweet: tweet['text'].encode('utf-8'), tweet_data)\n",
    "    tweets['Date'] = map(lambda tweet: time.strftime('%Y-%m-%d %H:%M:%S', time.strptime(tweet['created_at'],'%a %b %d %H:%M:%S +0000 %Y')), tweet_data)\n",
    "    tweets['User'] = map(lambda tweet: tweet['user']['screen_name'], tweet_data)\n",
    "    tweets['Follower_count'] = map(lambda tweet: tweet['user']['followers_count'], tweet_data)\n",
    "    tweets['Hashtags']=map(lambda tweet: tweet['entities']['hashtags'], tweet_data)"
   ]
  },
  {
   "cell_type": "markdown",
   "metadata": {},
   "source": [
    "### CALL ALL FUNCTIONS"
   ]
  },
  {
   "cell_type": "code",
   "execution_count": 30,
   "metadata": {},
   "outputs": [
    {
     "name": "stdout",
     "output_type": "stream",
     "text": [
      "                                              tweets                   id  \\\n",
      "0  “But What About the Warlords? “— Something Ama...  1065388098698297344   \n",
      "1  RT @derekmagill: At what point is BTC no longe...  1065376329632239617   \n",
      "2  RT @CryptoClubOCC: This dev onboarded 12 #BCH ...  1064586591455203328   \n",
      "3  Announcing Neutrino Wallet for Bitcoin Cash: \"...  1064576057884368896   \n",
      "4  On November 15 2018, the Bitcoin Cash (BCH) ne...  1064573528077361152   \n",
      "5  RT @cash_gateway: Hi, https://t.co/5wvvwBLIoD ...  1064567751199535104   \n",
      "6  @manianban Bitcoin isn't a get rich quick sche...  1064375246201999360   \n",
      "7  Introducing BadgerWallet: MetaMask for Bitcoin...  1064373524905656320   \n",
      "8  @JynGyu Yes, hash rate decides. The ABC side h...  1063615110743244800   \n",
      "9  @marvin_kassab @skylark_cash @rogerkver @Tweet...  1063614449976782849   \n",
      "\n",
      "   len                date              source  likes  retweets sentiment  \n",
      "0  128 2018-11-21 23:34:51  Twitter Web Client    156        77  positive  \n",
      "1   67 2018-11-21 22:48:05  Twitter Web Client      0        82   neutral  \n",
      "2  134 2018-11-19 18:29:57  Twitter Web Client      0        35  negative  \n",
      "3  140 2018-11-19 17:48:05  Twitter Web Client    158        61  positive  \n",
      "4  140 2018-11-19 17:38:02  Twitter Web Client    220        87  positive  \n",
      "5  140 2018-11-19 17:15:05  Twitter Web Client      0        58   neutral  \n",
      "6   75 2018-11-19 04:30:08  Twitter Web Client      3         0  positive  \n",
      "7  100 2018-11-19 04:23:18  Twitter Web Client    181        63   neutral  \n",
      "8  140 2018-11-17 02:09:38  Twitter Web Client     12         2  positive  \n",
      "9   79 2018-11-17 02:07:00  Twitter Web Client      1         0   neutral  \n",
      "120.665\n",
      "1460\n",
      "767\n"
     ]
    },
    {
     "data": {
      "image/png": "[encoded data removed]",
      "text/plain": [
       "<Figure size 1152x288 with 1 Axes>"
      ]
     },
     "metadata": {},
     "output_type": "display_data"
    },
    {
     "data": {
      "image/png": "[encoded data removed]",
      "text/plain": [
       "<Figure size 1152x288 with 1 Axes>"
      ]
     },
     "metadata": {},
     "output_type": "display_data"
    },
    {
     "data": {
      "image/png": "[encoded data removed]",
      "text/plain": [
       "<Figure size 1152x288 with 1 Axes>"
      ]
     },
     "metadata": {},
     "output_type": "display_data"
    },
    {
     "data": {
      "image/png": "[encoded data removed]",
      "text/plain": [
       "<Figure size 1152x288 with 1 Axes>"
      ]
     },
     "metadata": {},
     "output_type": "display_data"
    }
   ],
   "source": [
    "# Python interpreter reads a source file, it executes all of the code found in it.\n",
    "\n",
    "if __name__ == '__main__':\n",
    "\n",
    "    twitter_client = TwitterClient()\n",
    "    tweet_analyzer = TweetAnalyzer()\n",
    "\n",
    "    api = twitter_client.get_twitter_client_api()\n",
    "\n",
    "    tweets = api.user_timeline(screen_name=\"Bitcoin\",count=200)\n",
    "\n",
    "    #print(dir(tweets[0]))\n",
    "    #print(tweets[0].retweet_count)\n",
    "\n",
    "    df = tweet_analyzer.tweets_to_data_frame(tweets)\n",
    "    df['sentiment'] = np.array([tweet_analyzer.analyze_sentiment(tweet) for tweet in df['tweets']])\n",
    "\n",
    "    print(df.head(10))\n",
    "\n",
    "\n",
    "    # Get average length over all tweets:\n",
    "    print(np.mean(df['len']))\n",
    "\n",
    "    # Get the number of likes for the most liked tweet:\n",
    "    print(np.max(df['likes']))\n",
    "\n",
    "    # Get the number of retweets for the most retweeted tweet:\n",
    "    print(np.max(df['retweets']))\n",
    "    \n",
    "    #print(df.head(10))\n",
    "\n",
    "    \n",
    "    # Time Series\n",
    "    time_likes = pd.Series(data=df['len'].values, index=df['date'])\n",
    "    time_likes.plot(figsize=(16, 4), color='r')\n",
    "    plt.show()\n",
    "    \n",
    "    time_favs = pd.Series(data=df['likes'].values, index=df['date'])\n",
    "    time_favs.plot(figsize=(16, 4), color='r')\n",
    "    plt.show()\n",
    "\n",
    "    time_retweets = pd.Series(data=df['retweets'].values, index=df['date'])\n",
    "    time_retweets.plot(figsize=(16, 4), color='r')\n",
    "    plt.show()\n",
    "\n",
    "    # Layered Time Series:\n",
    "    time_likes = pd.Series(data=df['likes'].values, index=df['date'])\n",
    "    time_likes.plot(figsize=(16, 4), label=\"likes\", legend=True)\n",
    "\n",
    "    time_retweets = pd.Series(data=df['retweets'].values, index=df['date'])\n",
    "    time_retweets.plot(figsize=(16, 4), label=\"retweets\", legend=True)\n",
    "    plt.show()"
   ]
  },
  {
   "cell_type": "code",
   "execution_count": 31,
   "metadata": {},
   "outputs": [
    {
     "data": {
      "text/plain": [
       "(200, 8)"
      ]
     },
     "execution_count": 31,
     "metadata": {},
     "output_type": "execute_result"
    }
   ],
   "source": [
    "# Check the shape\n",
    "df.shape"
   ]
  },
  {
   "cell_type": "code",
   "execution_count": 32,
   "metadata": {},
   "outputs": [
    {
     "data": {
      "text/plain": [
       "Index(['tweets', 'id', 'len', 'date', 'source', 'likes', 'retweets',\n",
       "       'sentiment'],\n",
       "      dtype='object')"
      ]
     },
     "execution_count": 32,
     "metadata": {},
     "output_type": "execute_result"
    }
   ],
   "source": [
    "# # Check the columns\n",
    "df.columns"
   ]
  },
  {
   "cell_type": "code",
   "execution_count": 33,
   "metadata": {},
   "outputs": [],
   "source": [
    "# Save the file\n",
    "df.to_csv('tweets_1stDec.csv', sep=',',encoding='utf-8' )"
   ]
  },
  {
   "cell_type": "code",
   "execution_count": 34,
   "metadata": {},
   "outputs": [
    {
     "name": "stdout",
     "output_type": "stream",
     "text": [
      "['__class__', '__delattr__', '__dict__', '__dir__', '__doc__', '__eq__', '__format__', '__ge__', '__getattribute__', '__getstate__', '__gt__', '__hash__', '__init__', '__init_subclass__', '__le__', '__lt__', '__module__', '__ne__', '__new__', '__reduce__', '__reduce_ex__', '__repr__', '__setattr__', '__sizeof__', '__str__', '__subclasshook__', '__weakref__', '_api', '_json', 'author', 'contributors', 'coordinates', 'created_at', 'destroy', 'entities', 'favorite', 'favorite_count', 'favorited', 'geo', 'id', 'id_str', 'in_reply_to_screen_name', 'in_reply_to_status_id', 'in_reply_to_status_id_str', 'in_reply_to_user_id', 'in_reply_to_user_id_str', 'is_quote_status', 'lang', 'parse', 'parse_list', 'place', 'possibly_sensitive', 'retweet', 'retweet_count', 'retweeted', 'retweets', 'source', 'source_url', 'text', 'truncated', 'user']\n"
     ]
    }
   ],
   "source": [
    "# Print the tweet\n",
    "print(dir(tweets[0]))"
   ]
  },
  {
   "cell_type": "code",
   "execution_count": 35,
   "metadata": {},
   "outputs": [
    {
     "name": "stdout",
     "output_type": "stream",
     "text": [
      "“But What About the Warlords? “— Something Amazing Just Happened on Bitcoin Cash. - by @bill_mcgonigle \n",
      "\n",
      "https://t.co/zlYBNPwKah\n"
     ]
    }
   ],
   "source": [
    "print(df[\"tweets\"][0])"
   ]
  },
  {
   "cell_type": "code",
   "execution_count": 36,
   "metadata": {},
   "outputs": [
    {
     "name": "stdout",
     "output_type": "stream",
     "text": [
      "77\n"
     ]
    }
   ],
   "source": [
    "# Print the re-tweet count\n",
    "print(tweets[0].retweet_count)"
   ]
  },
  {
   "cell_type": "code",
   "execution_count": 37,
   "metadata": {},
   "outputs": [],
   "source": [
    "tweets;"
   ]
  },
  {
   "cell_type": "code",
   "execution_count": 38,
   "metadata": {},
   "outputs": [
    {
     "data": {
      "text/plain": [
       "array(['positive', 'neutral', 'negative'], dtype=object)"
      ]
     },
     "execution_count": 38,
     "metadata": {},
     "output_type": "execute_result"
    }
   ],
   "source": [
    "# Print the unique outputs in the sentiment column.\n",
    "df.sentiment.unique()"
   ]
  },
  {
   "cell_type": "code",
   "execution_count": 39,
   "metadata": {},
   "outputs": [
    {
     "data": {
      "text/plain": [
       "neutral     99\n",
       "positive    82\n",
       "negative    19\n",
       "Name: sentiment, dtype: int64"
      ]
     },
     "execution_count": 39,
     "metadata": {},
     "output_type": "execute_result"
    }
   ],
   "source": [
    "# Print the sentiment column value count.\n",
    "df.sentiment.value_counts()"
   ]
  },
  {
   "cell_type": "markdown",
   "metadata": {},
   "source": [
    "### Check for all stored data."
   ]
  },
  {
   "cell_type": "markdown",
   "metadata": {},
   "source": [
    "## Plotting Continuos Stream of data."
   ]
  },
  {
   "cell_type": "code",
   "execution_count": 40,
   "metadata": {},
   "outputs": [],
   "source": [
    "# Load the data in a variable.\n",
    "pullData = pd.read_csv(\"tweets_1stDec.csv\")\n",
    "lines = pullData.sentiment\n",
    "    \n",
    "#print(lines)"
   ]
  },
  {
   "cell_type": "code",
   "execution_count": 42,
   "metadata": {},
   "outputs": [
    {
     "data": {
      "image/png": "[encoded data removed]",
      "text/plain": [
       "<Figure size 432x288 with 1 Axes>"
      ]
     },
     "metadata": {},
     "output_type": "display_data"
    }
   ],
   "source": [
    "# Plot the twitter dtream of data.\n",
    "\n",
    "style.use(\"ggplot\")\n",
    "\n",
    "fig = plt.figure()\n",
    "ax1 = fig.add_subplot(1,1,1)\n",
    "\n",
    "# Function for live stream data and plotting animation.\n",
    "def animate(i):\n",
    "    pullData = pd.read_csv(\"tweets_1stDec.csv\")\n",
    "    lines = pullData.sentiment\n",
    "    \n",
    "    #print(lines)    \n",
    "    \n",
    "    xar = []\n",
    "    yar = []\n",
    "\n",
    "    x = 0\n",
    "    y = 0\n",
    "\n",
    "    for l in lines[-200:]:\n",
    "        x += 1\n",
    "        if \"pos\" in l:\n",
    "            y += 1\n",
    "        elif \"neg\" in l:\n",
    "            y -= 1\n",
    "\n",
    "        xar.append(x)\n",
    "        yar.append(y)\n",
    "        \n",
    "    ax1.clear()\n",
    "    ax1.plot(xar,yar)\n",
    "ani = animation.FuncAnimation(fig, animate, interval=1000)\n",
    "plt.show()"
   ]
  },
  {
   "cell_type": "markdown",
   "metadata": {},
   "source": [
    "#### First dataframe didnot had sentiment column, I had not initially added 'sentiment' column.\n",
    "#### Below steps are just for sentiment of the tweets."
   ]
  },
  {
   "cell_type": "raw",
   "metadata": {},
   "source": [
    "df_sent=pd.read_csv('./tweets_v1.csv') # 6/11/2018"
   ]
  },
  {
   "cell_type": "raw",
   "metadata": {},
   "source": [
    "#df_sent.drop('Unnamed: 0',axis=1,inplace=True)\n",
    "df_sent.head()"
   ]
  },
  {
   "cell_type": "raw",
   "metadata": {},
   "source": [
    "# Add a new column as sentiment with zero values.\n",
    "df_sent['sentiment'] = 0"
   ]
  },
  {
   "cell_type": "raw",
   "metadata": {},
   "source": [
    "df_sent.head()"
   ]
  },
  {
   "cell_type": "raw",
   "metadata": {},
   "source": [
    "class TweetAnalyzer():\n",
    "    \n",
    "    # Functionality for analyzing and categorizing content from tweets.\n",
    "    \n",
    "    def clean_tweet(self, tweet):\n",
    "        return ' '.join(re.sub(\"(@[A-Za-z0-9]+)|([^0-9A-Za-z \\t])|(\\w+:\\/\\/\\S+)\", \" \", tweet).split())\n",
    "\n",
    "    def analyze_sentiment(self, tweet):\n",
    "        analysis = TextBlob(self.clean_tweet(tweet))\n",
    "        #sentiment= None\n",
    "        if analysis.sentiment.polarity > 0:\n",
    "            return 'positive'\n",
    "        elif analysis.sentiment.polarity == 0:\n",
    "            return 'neutral'\n",
    "        else:\n",
    "            return 'negative'\n",
    "        \n",
    "\n",
    "    def tweets_to_data_frame(self, tweets):\n",
    "        #df = pd.DataFrame(data=[tweet.text for tweet in tweets], columns=['tweets'])\n",
    "\n",
    "        df['sentiment'] = np.array([tweet.id for tweet in tweets])"
   ]
  },
  {
   "cell_type": "raw",
   "metadata": {},
   "source": [
    "tweet_analyzer = TweetAnalyzer()\n",
    "#df = tweet_analyzer.tweets_to_data_frame(tweets)\n",
    "df_sent['sentiment'] = np.array([tweet_analyzer.analyze_sentiment(tweet) for tweet in df['tweets']])\n"
   ]
  },
  {
   "cell_type": "raw",
   "metadata": {},
   "source": [
    "df_sent.head()"
   ]
  },
  {
   "cell_type": "raw",
   "metadata": {},
   "source": [
    "# Save the file\n",
    "df_sent.to_csv('tweets_v1.1.csv', sep=',',encoding='utf-8' )"
   ]
  },
  {
   "cell_type": "markdown",
   "metadata": {},
   "source": [
    "### Combine all the Tweet data csv files"
   ]
  },
  {
   "cell_type": "raw",
   "metadata": {},
   "source": [
    "# Pull tweets data from each saved file.\n",
    "df1=pd.read_csv('./tweets_v1.1.csv') # 6/11/2018\n",
    "df2=pd.read_csv('./tweets_v2.csv')# 7/11/2018\n",
    "df3=pd.read_csv('./tweets_v3.csv') # 8/11/2018\n",
    "df4=pd.read_csv('./tweets_v4.csv') # 12/11/2018\n",
    "df5=pd.read_csv('./tweets_v5.csv') # 13/11/2018\n",
    "df6=pd.read_csv('./tweets_v6.csv') # 14/11/2018\n",
    "df7=pd.read_csv('./tweets_v7.csv') # 14/11/2018\n",
    "df8=pd.read_csv('./tweets_v8.csv') # 19/11/2018"
   ]
  },
  {
   "cell_type": "code",
   "execution_count": 45,
   "metadata": {},
   "outputs": [],
   "source": [
    "df1=pd.read_csv('./tweets_concat_result_19Nov.csv')"
   ]
  },
  {
   "cell_type": "code",
   "execution_count": 46,
   "metadata": {},
   "outputs": [
    {
     "data": {
      "text/plain": [
       "(913, 8)"
      ]
     },
     "execution_count": 46,
     "metadata": {},
     "output_type": "execute_result"
    }
   ],
   "source": [
    "# Just verify if its read properly.\n",
    "df1.shape"
   ]
  },
  {
   "cell_type": "code",
   "execution_count": 47,
   "metadata": {},
   "outputs": [
    {
     "data": {
      "text/html": [
       "<div>\n",
       "<style scoped>\n",
       "    .dataframe tbody tr th:only-of-type {\n",
       "        vertical-align: middle;\n",
       "    }\n",
       "\n",
       "    .dataframe tbody tr th {\n",
       "        vertical-align: top;\n",
       "    }\n",
       "\n",
       "    .dataframe thead th {\n",
       "        text-align: right;\n",
       "    }\n",
       "</style>\n",
       "<table border=\"1\" class=\"dataframe\">\n",
       "  <thead>\n",
       "    <tr style=\"text-align: right;\">\n",
       "      <th></th>\n",
       "      <th>tweets</th>\n",
       "      <th>id</th>\n",
       "      <th>len</th>\n",
       "      <th>date</th>\n",
       "      <th>source</th>\n",
       "      <th>likes</th>\n",
       "      <th>retweets</th>\n",
       "      <th>sentiment</th>\n",
       "    </tr>\n",
       "  </thead>\n",
       "  <tbody>\n",
       "    <tr>\n",
       "      <th>0</th>\n",
       "      <td>“But What About the Warlords? “— Something Ama...</td>\n",
       "      <td>1065388098698297344</td>\n",
       "      <td>128</td>\n",
       "      <td>2018-11-21 23:34:51</td>\n",
       "      <td>Twitter Web Client</td>\n",
       "      <td>156</td>\n",
       "      <td>77</td>\n",
       "      <td>positive</td>\n",
       "    </tr>\n",
       "    <tr>\n",
       "      <th>1</th>\n",
       "      <td>RT @derekmagill: At what point is BTC no longe...</td>\n",
       "      <td>1065376329632239617</td>\n",
       "      <td>67</td>\n",
       "      <td>2018-11-21 22:48:05</td>\n",
       "      <td>Twitter Web Client</td>\n",
       "      <td>0</td>\n",
       "      <td>82</td>\n",
       "      <td>neutral</td>\n",
       "    </tr>\n",
       "    <tr>\n",
       "      <th>2</th>\n",
       "      <td>RT @CryptoClubOCC: This dev onboarded 12 #BCH ...</td>\n",
       "      <td>1064586591455203328</td>\n",
       "      <td>134</td>\n",
       "      <td>2018-11-19 18:29:57</td>\n",
       "      <td>Twitter Web Client</td>\n",
       "      <td>0</td>\n",
       "      <td>35</td>\n",
       "      <td>negative</td>\n",
       "    </tr>\n",
       "    <tr>\n",
       "      <th>3</th>\n",
       "      <td>Announcing Neutrino Wallet for Bitcoin Cash: \"...</td>\n",
       "      <td>1064576057884368896</td>\n",
       "      <td>140</td>\n",
       "      <td>2018-11-19 17:48:05</td>\n",
       "      <td>Twitter Web Client</td>\n",
       "      <td>158</td>\n",
       "      <td>61</td>\n",
       "      <td>positive</td>\n",
       "    </tr>\n",
       "    <tr>\n",
       "      <th>4</th>\n",
       "      <td>On November 15 2018, the Bitcoin Cash (BCH) ne...</td>\n",
       "      <td>1064573528077361152</td>\n",
       "      <td>140</td>\n",
       "      <td>2018-11-19 17:38:02</td>\n",
       "      <td>Twitter Web Client</td>\n",
       "      <td>220</td>\n",
       "      <td>87</td>\n",
       "      <td>positive</td>\n",
       "    </tr>\n",
       "  </tbody>\n",
       "</table>\n",
       "</div>"
      ],
      "text/plain": [
       "                                              tweets                   id  \\\n",
       "0  “But What About the Warlords? “— Something Ama...  1065388098698297344   \n",
       "1  RT @derekmagill: At what point is BTC no longe...  1065376329632239617   \n",
       "2  RT @CryptoClubOCC: This dev onboarded 12 #BCH ...  1064586591455203328   \n",
       "3  Announcing Neutrino Wallet for Bitcoin Cash: \"...  1064576057884368896   \n",
       "4  On November 15 2018, the Bitcoin Cash (BCH) ne...  1064573528077361152   \n",
       "\n",
       "   len                date              source  likes  retweets sentiment  \n",
       "0  128 2018-11-21 23:34:51  Twitter Web Client    156        77  positive  \n",
       "1   67 2018-11-21 22:48:05  Twitter Web Client      0        82   neutral  \n",
       "2  134 2018-11-19 18:29:57  Twitter Web Client      0        35  negative  \n",
       "3  140 2018-11-19 17:48:05  Twitter Web Client    158        61  positive  \n",
       "4  140 2018-11-19 17:38:02  Twitter Web Client    220        87  positive  "
      ]
     },
     "execution_count": 47,
     "metadata": {},
     "output_type": "execute_result"
    }
   ],
   "source": [
    "# Check the head of the dataframe\n",
    "df.head()"
   ]
  },
  {
   "cell_type": "code",
   "execution_count": 51,
   "metadata": {},
   "outputs": [],
   "source": [
    "# Creating a small function to drop duplicates and remove the unwanted 'Unnamed : 0' column\n",
    "\n",
    "def remove_duplicates(df_all):\n",
    "    for df in df_all:\n",
    "        #df.drop('Unnamed: 0',axis=1,inplace=True)\n",
    "        df.drop_duplicates(inplace=True)"
   ]
  },
  {
   "cell_type": "code",
   "execution_count": 52,
   "metadata": {},
   "outputs": [],
   "source": [
    "# Create a list consisting all the dataframes.\n",
    "df_all=[df1,df]"
   ]
  },
  {
   "cell_type": "code",
   "execution_count": 53,
   "metadata": {},
   "outputs": [],
   "source": [
    "# Call the above function with the list of all df's.\n",
    "remove_duplicates(df_all)"
   ]
  },
  {
   "cell_type": "code",
   "execution_count": 54,
   "metadata": {},
   "outputs": [],
   "source": [
    "# Combine all the dataframes using pd.concat method.\n",
    "\n",
    "tweets_data=pd.concat(df_all,ignore_index=True)"
   ]
  },
  {
   "cell_type": "code",
   "execution_count": 55,
   "metadata": {},
   "outputs": [
    {
     "data": {
      "text/plain": [
       "(1113, 8)"
      ]
     },
     "execution_count": 55,
     "metadata": {},
     "output_type": "execute_result"
    }
   ],
   "source": [
    "# Check the shape of the resultant dataframe before checking further for duplicates.\n",
    "tweets_data.shape"
   ]
  },
  {
   "cell_type": "code",
   "execution_count": 56,
   "metadata": {},
   "outputs": [],
   "source": [
    "# Check for duplicates again after combining.\n",
    "tweets_data.drop_duplicates(inplace=True)"
   ]
  },
  {
   "cell_type": "code",
   "execution_count": 57,
   "metadata": {},
   "outputs": [
    {
     "data": {
      "text/plain": [
       "(1113, 8)"
      ]
     },
     "execution_count": 57,
     "metadata": {},
     "output_type": "execute_result"
    }
   ],
   "source": [
    "# Check the dimension after the duplicates.\n",
    "tweets_data.shape"
   ]
  },
  {
   "cell_type": "code",
   "execution_count": 58,
   "metadata": {},
   "outputs": [
    {
     "data": {
      "text/html": [
       "<div>\n",
       "<style scoped>\n",
       "    .dataframe tbody tr th:only-of-type {\n",
       "        vertical-align: middle;\n",
       "    }\n",
       "\n",
       "    .dataframe tbody tr th {\n",
       "        vertical-align: top;\n",
       "    }\n",
       "\n",
       "    .dataframe thead th {\n",
       "        text-align: right;\n",
       "    }\n",
       "</style>\n",
       "<table border=\"1\" class=\"dataframe\">\n",
       "  <thead>\n",
       "    <tr style=\"text-align: right;\">\n",
       "      <th></th>\n",
       "      <th>tweets</th>\n",
       "      <th>id</th>\n",
       "      <th>len</th>\n",
       "      <th>date</th>\n",
       "      <th>source</th>\n",
       "      <th>likes</th>\n",
       "      <th>retweets</th>\n",
       "      <th>sentiment</th>\n",
       "    </tr>\n",
       "  </thead>\n",
       "  <tbody>\n",
       "    <tr>\n",
       "      <th>0</th>\n",
       "      <td>Bitcoin Cash Continues to Skyrocket 15% to $53...</td>\n",
       "      <td>1.059190e+18</td>\n",
       "      <td>91</td>\n",
       "      <td>4/11/2018 21:10</td>\n",
       "      <td>Twitter Web Client</td>\n",
       "      <td>396</td>\n",
       "      <td>157</td>\n",
       "      <td>positive</td>\n",
       "    </tr>\n",
       "    <tr>\n",
       "      <th>1</th>\n",
       "      <td>RT @CoinSpice: Leaders in the #BCH space @ryan...</td>\n",
       "      <td>1.058070e+18</td>\n",
       "      <td>140</td>\n",
       "      <td>1/11/2018 19:14</td>\n",
       "      <td>Twitter Web Client</td>\n",
       "      <td>0</td>\n",
       "      <td>42</td>\n",
       "      <td>neutral</td>\n",
       "    </tr>\n",
       "    <tr>\n",
       "      <th>2</th>\n",
       "      <td>RT @HelloVoltaire: You can now use @handcashap...</td>\n",
       "      <td>1.057730e+18</td>\n",
       "      <td>140</td>\n",
       "      <td>31/10/2018 20:12</td>\n",
       "      <td>Twitter Web Client</td>\n",
       "      <td>0</td>\n",
       "      <td>49</td>\n",
       "      <td>neutral</td>\n",
       "    </tr>\n",
       "    <tr>\n",
       "      <th>3</th>\n",
       "      <td>\"The behemoth cryptocurrency exchange Coinbase...</td>\n",
       "      <td>1.057670e+18</td>\n",
       "      <td>140</td>\n",
       "      <td>31/10/2018 16:25</td>\n",
       "      <td>TweetDeck</td>\n",
       "      <td>117</td>\n",
       "      <td>44</td>\n",
       "      <td>positive</td>\n",
       "    </tr>\n",
       "    <tr>\n",
       "      <th>4</th>\n",
       "      <td>Pandacash is a “one-click” Bitcoin Cash blockc...</td>\n",
       "      <td>1.057650e+18</td>\n",
       "      <td>140</td>\n",
       "      <td>31/10/2018 15:24</td>\n",
       "      <td>TweetDeck</td>\n",
       "      <td>58</td>\n",
       "      <td>36</td>\n",
       "      <td>positive</td>\n",
       "    </tr>\n",
       "  </tbody>\n",
       "</table>\n",
       "</div>"
      ],
      "text/plain": [
       "                                              tweets            id  len  \\\n",
       "0  Bitcoin Cash Continues to Skyrocket 15% to $53...  1.059190e+18   91   \n",
       "1  RT @CoinSpice: Leaders in the #BCH space @ryan...  1.058070e+18  140   \n",
       "2  RT @HelloVoltaire: You can now use @handcashap...  1.057730e+18  140   \n",
       "3  \"The behemoth cryptocurrency exchange Coinbase...  1.057670e+18  140   \n",
       "4  Pandacash is a “one-click” Bitcoin Cash blockc...  1.057650e+18  140   \n",
       "\n",
       "               date              source  likes  retweets sentiment  \n",
       "0   4/11/2018 21:10  Twitter Web Client    396       157  positive  \n",
       "1   1/11/2018 19:14  Twitter Web Client      0        42   neutral  \n",
       "2  31/10/2018 20:12  Twitter Web Client      0        49   neutral  \n",
       "3  31/10/2018 16:25           TweetDeck    117        44  positive  \n",
       "4  31/10/2018 15:24           TweetDeck     58        36  positive  "
      ]
     },
     "execution_count": 58,
     "metadata": {},
     "output_type": "execute_result"
    }
   ],
   "source": [
    "# Check the contents of the dataframe\n",
    "tweets_data.head()"
   ]
  },
  {
   "cell_type": "code",
   "execution_count": 59,
   "metadata": {},
   "outputs": [
    {
     "data": {
      "text/plain": [
       "0"
      ]
     },
     "execution_count": 59,
     "metadata": {},
     "output_type": "execute_result"
    }
   ],
   "source": [
    "# Just verifying if the sentiment column has any entries null.\n",
    "tweets_data.sentiment.isnull().sum()"
   ]
  },
  {
   "cell_type": "code",
   "execution_count": 60,
   "metadata": {},
   "outputs": [],
   "source": [
    "# Save the file.\n",
    "tweets_data.to_csv('./tweets_concat_result_1stDec.csv',index=False, encoding='utf-8')"
   ]
  },
  {
   "cell_type": "code",
   "execution_count": 61,
   "metadata": {},
   "outputs": [],
   "source": [
    "# Read the csv file.\n",
    "df= pd.read_csv('./tweets_concat_result_1stDec.csv')"
   ]
  },
  {
   "cell_type": "code",
   "execution_count": 64,
   "metadata": {},
   "outputs": [
    {
     "data": {
      "text/html": [
       "<div>\n",
       "<style scoped>\n",
       "    .dataframe tbody tr th:only-of-type {\n",
       "        vertical-align: middle;\n",
       "    }\n",
       "\n",
       "    .dataframe tbody tr th {\n",
       "        vertical-align: top;\n",
       "    }\n",
       "\n",
       "    .dataframe thead th {\n",
       "        text-align: right;\n",
       "    }\n",
       "</style>\n",
       "<table border=\"1\" class=\"dataframe\">\n",
       "  <thead>\n",
       "    <tr style=\"text-align: right;\">\n",
       "      <th></th>\n",
       "      <th>tweets</th>\n",
       "      <th>id</th>\n",
       "      <th>len</th>\n",
       "      <th>date</th>\n",
       "      <th>source</th>\n",
       "      <th>likes</th>\n",
       "      <th>retweets</th>\n",
       "      <th>sentiment</th>\n",
       "    </tr>\n",
       "  </thead>\n",
       "  <tbody>\n",
       "    <tr>\n",
       "      <th>1108</th>\n",
       "      <td>RT @money_button: We launched.\\r\\n\\r\\nhttps://...</td>\n",
       "      <td>1.040207e+18</td>\n",
       "      <td>140</td>\n",
       "      <td>2018-09-13 11:53:38</td>\n",
       "      <td>Twitter Web Client</td>\n",
       "      <td>0</td>\n",
       "      <td>136</td>\n",
       "      <td>positive</td>\n",
       "    </tr>\n",
       "    <tr>\n",
       "      <th>1109</th>\n",
       "      <td>@jdsmithies @memobch @YoursOrg @money_button @...</td>\n",
       "      <td>1.040202e+18</td>\n",
       "      <td>140</td>\n",
       "      <td>2018-09-13 11:33:08</td>\n",
       "      <td>Twitter Web Client</td>\n",
       "      <td>2</td>\n",
       "      <td>0</td>\n",
       "      <td>neutral</td>\n",
       "    </tr>\n",
       "    <tr>\n",
       "      <th>1110</th>\n",
       "      <td>RT @btccom_official: We are happy to announce ...</td>\n",
       "      <td>1.040198e+18</td>\n",
       "      <td>140</td>\n",
       "      <td>2018-09-13 11:18:32</td>\n",
       "      <td>Twitter Web Client</td>\n",
       "      <td>0</td>\n",
       "      <td>37</td>\n",
       "      <td>positive</td>\n",
       "    </tr>\n",
       "    <tr>\n",
       "      <th>1111</th>\n",
       "      <td>@DeviousPL @memobch @YoursOrg @money_button @M...</td>\n",
       "      <td>1.040197e+18</td>\n",
       "      <td>114</td>\n",
       "      <td>2018-09-13 11:15:49</td>\n",
       "      <td>Twitter Web Client</td>\n",
       "      <td>3</td>\n",
       "      <td>0</td>\n",
       "      <td>positive</td>\n",
       "    </tr>\n",
       "    <tr>\n",
       "      <th>1112</th>\n",
       "      <td>@jdsmithies @memobch @YoursOrg @money_button @...</td>\n",
       "      <td>1.040197e+18</td>\n",
       "      <td>139</td>\n",
       "      <td>2018-09-13 11:15:22</td>\n",
       "      <td>Twitter Web Client</td>\n",
       "      <td>1</td>\n",
       "      <td>0</td>\n",
       "      <td>neutral</td>\n",
       "    </tr>\n",
       "  </tbody>\n",
       "</table>\n",
       "</div>"
      ],
      "text/plain": [
       "                                                 tweets            id  len  \\\n",
       "1108  RT @money_button: We launched.\\r\\n\\r\\nhttps://...  1.040207e+18  140   \n",
       "1109  @jdsmithies @memobch @YoursOrg @money_button @...  1.040202e+18  140   \n",
       "1110  RT @btccom_official: We are happy to announce ...  1.040198e+18  140   \n",
       "1111  @DeviousPL @memobch @YoursOrg @money_button @M...  1.040197e+18  114   \n",
       "1112  @jdsmithies @memobch @YoursOrg @money_button @...  1.040197e+18  139   \n",
       "\n",
       "                     date              source  likes  retweets sentiment  \n",
       "1108  2018-09-13 11:53:38  Twitter Web Client      0       136  positive  \n",
       "1109  2018-09-13 11:33:08  Twitter Web Client      2         0   neutral  \n",
       "1110  2018-09-13 11:18:32  Twitter Web Client      0        37  positive  \n",
       "1111  2018-09-13 11:15:49  Twitter Web Client      3         0  positive  \n",
       "1112  2018-09-13 11:15:22  Twitter Web Client      1         0   neutral  "
      ]
     },
     "execution_count": 64,
     "metadata": {},
     "output_type": "execute_result"
    }
   ],
   "source": [
    "# Print the head.\n",
    "df.tail()"
   ]
  },
  {
   "cell_type": "code",
   "execution_count": 65,
   "metadata": {},
   "outputs": [
    {
     "data": {
      "text/plain": [
       "'1/11/2018 19:14'"
      ]
     },
     "execution_count": 65,
     "metadata": {},
     "output_type": "execute_result"
    }
   ],
   "source": [
    "df.date.min()"
   ]
  },
  {
   "cell_type": "markdown",
   "metadata": {},
   "source": [
    "### Subjectivity score :\n",
    "A score of subjectivity assigned to each tweet is based on whether it is representing a subjective meaning or an objective meaning; the range of subjectivity score is also from 0 to 1 where a value near to 0 represents objective and near to 1 subjective."
   ]
  },
  {
   "cell_type": "code",
   "execution_count": 66,
   "metadata": {},
   "outputs": [],
   "source": [
    "# Getting the subjectivity and polarity score for the sentiments of the tweets.\n",
    "\n",
    "tweet = df['tweets']\n",
    "# Initialize the polarity and subjectivity lists.\n",
    "pol = []\n",
    "sub = []\n",
    "\n",
    "# from textblob import TextBlob as tb\n",
    "# tb is the TextBlob package.\n",
    "\n",
    "for j in tweet:\n",
    "    tx = tb(j)\n",
    "    pol.append(tx.sentiment.polarity)\n",
    "    sub.append(tx.sentiment.subjectivity)"
   ]
  },
  {
   "cell_type": "raw",
   "metadata": {},
   "source": [
    "def senti_score(sentence):\n",
    "    snt = analyser.polarity_scores(sentence)\n",
    "    return ([snt['neg'], snt['neu'], snt['pos'], snt['compound']])"
   ]
  },
  {
   "cell_type": "code",
   "execution_count": 68,
   "metadata": {},
   "outputs": [
    {
     "data": {
      "text/html": [
       "<div>\n",
       "<style scoped>\n",
       "    .dataframe tbody tr th:only-of-type {\n",
       "        vertical-align: middle;\n",
       "    }\n",
       "\n",
       "    .dataframe tbody tr th {\n",
       "        vertical-align: top;\n",
       "    }\n",
       "\n",
       "    .dataframe thead th {\n",
       "        text-align: right;\n",
       "    }\n",
       "</style>\n",
       "<table border=\"1\" class=\"dataframe\">\n",
       "  <thead>\n",
       "    <tr style=\"text-align: right;\">\n",
       "      <th></th>\n",
       "      <th>polarity</th>\n",
       "      <th>subjectivity</th>\n",
       "    </tr>\n",
       "  </thead>\n",
       "  <tbody>\n",
       "    <tr>\n",
       "      <th>0</th>\n",
       "      <td>0.000000</td>\n",
       "      <td>0.000000</td>\n",
       "    </tr>\n",
       "    <tr>\n",
       "      <th>1</th>\n",
       "      <td>-0.155556</td>\n",
       "      <td>0.288889</td>\n",
       "    </tr>\n",
       "    <tr>\n",
       "      <th>2</th>\n",
       "      <td>0.000000</td>\n",
       "      <td>0.000000</td>\n",
       "    </tr>\n",
       "    <tr>\n",
       "      <th>3</th>\n",
       "      <td>0.250000</td>\n",
       "      <td>0.300000</td>\n",
       "    </tr>\n",
       "    <tr>\n",
       "      <th>4</th>\n",
       "      <td>0.500000</td>\n",
       "      <td>0.500000</td>\n",
       "    </tr>\n",
       "  </tbody>\n",
       "</table>\n",
       "</div>"
      ],
      "text/plain": [
       "   polarity  subjectivity\n",
       "0  0.000000      0.000000\n",
       "1 -0.155556      0.288889\n",
       "2  0.000000      0.000000\n",
       "3  0.250000      0.300000\n",
       "4  0.500000      0.500000"
      ]
     },
     "execution_count": 68,
     "metadata": {},
     "output_type": "execute_result"
    }
   ],
   "source": [
    "# Create dataframes with polarity and subjectivity columns.\n",
    "\n",
    "df_tweet = pd.DataFrame({\"polarity\":pol,\"subjectivity\":sub})\n",
    "df['polarity']= df_tweet ['polarity']\n",
    "df['subjectivity']= df_tweet ['subjectivity']\n",
    "\n",
    "df_tweet.head()"
   ]
  },
  {
   "cell_type": "code",
   "execution_count": 69,
   "metadata": {},
   "outputs": [
    {
     "data": {
      "text/html": [
       "<div>\n",
       "<style scoped>\n",
       "    .dataframe tbody tr th:only-of-type {\n",
       "        vertical-align: middle;\n",
       "    }\n",
       "\n",
       "    .dataframe tbody tr th {\n",
       "        vertical-align: top;\n",
       "    }\n",
       "\n",
       "    .dataframe thead th {\n",
       "        text-align: right;\n",
       "    }\n",
       "</style>\n",
       "<table border=\"1\" class=\"dataframe\">\n",
       "  <thead>\n",
       "    <tr style=\"text-align: right;\">\n",
       "      <th></th>\n",
       "      <th>tweets</th>\n",
       "      <th>id</th>\n",
       "      <th>len</th>\n",
       "      <th>date</th>\n",
       "      <th>source</th>\n",
       "      <th>likes</th>\n",
       "      <th>retweets</th>\n",
       "      <th>sentiment</th>\n",
       "      <th>polarity</th>\n",
       "      <th>subjectivity</th>\n",
       "    </tr>\n",
       "  </thead>\n",
       "  <tbody>\n",
       "    <tr>\n",
       "      <th>0</th>\n",
       "      <td>Bitcoin Cash Continues to Skyrocket 15% to $53...</td>\n",
       "      <td>1.059190e+18</td>\n",
       "      <td>91</td>\n",
       "      <td>4/11/2018 21:10</td>\n",
       "      <td>Twitter Web Client</td>\n",
       "      <td>396</td>\n",
       "      <td>157</td>\n",
       "      <td>positive</td>\n",
       "      <td>0.000000</td>\n",
       "      <td>0.000000</td>\n",
       "    </tr>\n",
       "    <tr>\n",
       "      <th>1</th>\n",
       "      <td>RT @CoinSpice: Leaders in the #BCH space @ryan...</td>\n",
       "      <td>1.058070e+18</td>\n",
       "      <td>140</td>\n",
       "      <td>1/11/2018 19:14</td>\n",
       "      <td>Twitter Web Client</td>\n",
       "      <td>0</td>\n",
       "      <td>42</td>\n",
       "      <td>neutral</td>\n",
       "      <td>-0.155556</td>\n",
       "      <td>0.288889</td>\n",
       "    </tr>\n",
       "    <tr>\n",
       "      <th>2</th>\n",
       "      <td>RT @HelloVoltaire: You can now use @handcashap...</td>\n",
       "      <td>1.057730e+18</td>\n",
       "      <td>140</td>\n",
       "      <td>31/10/2018 20:12</td>\n",
       "      <td>Twitter Web Client</td>\n",
       "      <td>0</td>\n",
       "      <td>49</td>\n",
       "      <td>neutral</td>\n",
       "      <td>0.000000</td>\n",
       "      <td>0.000000</td>\n",
       "    </tr>\n",
       "    <tr>\n",
       "      <th>3</th>\n",
       "      <td>\"The behemoth cryptocurrency exchange Coinbase...</td>\n",
       "      <td>1.057670e+18</td>\n",
       "      <td>140</td>\n",
       "      <td>31/10/2018 16:25</td>\n",
       "      <td>TweetDeck</td>\n",
       "      <td>117</td>\n",
       "      <td>44</td>\n",
       "      <td>positive</td>\n",
       "      <td>0.250000</td>\n",
       "      <td>0.300000</td>\n",
       "    </tr>\n",
       "    <tr>\n",
       "      <th>4</th>\n",
       "      <td>Pandacash is a “one-click” Bitcoin Cash blockc...</td>\n",
       "      <td>1.057650e+18</td>\n",
       "      <td>140</td>\n",
       "      <td>31/10/2018 15:24</td>\n",
       "      <td>TweetDeck</td>\n",
       "      <td>58</td>\n",
       "      <td>36</td>\n",
       "      <td>positive</td>\n",
       "      <td>0.500000</td>\n",
       "      <td>0.500000</td>\n",
       "    </tr>\n",
       "  </tbody>\n",
       "</table>\n",
       "</div>"
      ],
      "text/plain": [
       "                                              tweets            id  len  \\\n",
       "0  Bitcoin Cash Continues to Skyrocket 15% to $53...  1.059190e+18   91   \n",
       "1  RT @CoinSpice: Leaders in the #BCH space @ryan...  1.058070e+18  140   \n",
       "2  RT @HelloVoltaire: You can now use @handcashap...  1.057730e+18  140   \n",
       "3  \"The behemoth cryptocurrency exchange Coinbase...  1.057670e+18  140   \n",
       "4  Pandacash is a “one-click” Bitcoin Cash blockc...  1.057650e+18  140   \n",
       "\n",
       "               date              source  likes  retweets sentiment  polarity  \\\n",
       "0   4/11/2018 21:10  Twitter Web Client    396       157  positive  0.000000   \n",
       "1   1/11/2018 19:14  Twitter Web Client      0        42   neutral -0.155556   \n",
       "2  31/10/2018 20:12  Twitter Web Client      0        49   neutral  0.000000   \n",
       "3  31/10/2018 16:25           TweetDeck    117        44  positive  0.250000   \n",
       "4  31/10/2018 15:24           TweetDeck     58        36  positive  0.500000   \n",
       "\n",
       "   subjectivity  \n",
       "0      0.000000  \n",
       "1      0.288889  \n",
       "2      0.000000  \n",
       "3      0.300000  \n",
       "4      0.500000  "
      ]
     },
     "execution_count": 69,
     "metadata": {},
     "output_type": "execute_result"
    }
   ],
   "source": [
    "df.head()\n",
    "#df.shape"
   ]
  },
  {
   "cell_type": "code",
   "execution_count": 70,
   "metadata": {},
   "outputs": [],
   "source": [
    "# Create three different data frames for the three polarities.\n",
    "\n",
    "#negative = pd.DataFrame()\n",
    "#positive= pd.DataFrame()\n",
    "#neutral = pd.DataFrame()\n",
    "\n",
    "df['neg_score'] = df['polarity']<= -0.5\n",
    "df['pos_score']  = df['polarity']>=  0.5\n",
    "df['neu_score']  = (df['polarity'] > -0.5) & (df['polarity'] < 0.5)"
   ]
  },
  {
   "cell_type": "code",
   "execution_count": 71,
   "metadata": {},
   "outputs": [
    {
     "data": {
      "text/html": [
       "<div>\n",
       "<style scoped>\n",
       "    .dataframe tbody tr th:only-of-type {\n",
       "        vertical-align: middle;\n",
       "    }\n",
       "\n",
       "    .dataframe tbody tr th {\n",
       "        vertical-align: top;\n",
       "    }\n",
       "\n",
       "    .dataframe thead th {\n",
       "        text-align: right;\n",
       "    }\n",
       "</style>\n",
       "<table border=\"1\" class=\"dataframe\">\n",
       "  <thead>\n",
       "    <tr style=\"text-align: right;\">\n",
       "      <th></th>\n",
       "      <th>tweets</th>\n",
       "      <th>id</th>\n",
       "      <th>len</th>\n",
       "      <th>date</th>\n",
       "      <th>source</th>\n",
       "      <th>likes</th>\n",
       "      <th>retweets</th>\n",
       "      <th>sentiment</th>\n",
       "      <th>polarity</th>\n",
       "      <th>subjectivity</th>\n",
       "      <th>neg_score</th>\n",
       "      <th>pos_score</th>\n",
       "      <th>neu_score</th>\n",
       "    </tr>\n",
       "  </thead>\n",
       "  <tbody>\n",
       "    <tr>\n",
       "      <th>0</th>\n",
       "      <td>Bitcoin Cash Continues to Skyrocket 15% to $53...</td>\n",
       "      <td>1.059190e+18</td>\n",
       "      <td>91</td>\n",
       "      <td>4/11/2018 21:10</td>\n",
       "      <td>Twitter Web Client</td>\n",
       "      <td>396</td>\n",
       "      <td>157</td>\n",
       "      <td>positive</td>\n",
       "      <td>0.000000</td>\n",
       "      <td>0.000000</td>\n",
       "      <td>False</td>\n",
       "      <td>False</td>\n",
       "      <td>True</td>\n",
       "    </tr>\n",
       "    <tr>\n",
       "      <th>1</th>\n",
       "      <td>RT @CoinSpice: Leaders in the #BCH space @ryan...</td>\n",
       "      <td>1.058070e+18</td>\n",
       "      <td>140</td>\n",
       "      <td>1/11/2018 19:14</td>\n",
       "      <td>Twitter Web Client</td>\n",
       "      <td>0</td>\n",
       "      <td>42</td>\n",
       "      <td>neutral</td>\n",
       "      <td>-0.155556</td>\n",
       "      <td>0.288889</td>\n",
       "      <td>False</td>\n",
       "      <td>False</td>\n",
       "      <td>True</td>\n",
       "    </tr>\n",
       "    <tr>\n",
       "      <th>2</th>\n",
       "      <td>RT @HelloVoltaire: You can now use @handcashap...</td>\n",
       "      <td>1.057730e+18</td>\n",
       "      <td>140</td>\n",
       "      <td>31/10/2018 20:12</td>\n",
       "      <td>Twitter Web Client</td>\n",
       "      <td>0</td>\n",
       "      <td>49</td>\n",
       "      <td>neutral</td>\n",
       "      <td>0.000000</td>\n",
       "      <td>0.000000</td>\n",
       "      <td>False</td>\n",
       "      <td>False</td>\n",
       "      <td>True</td>\n",
       "    </tr>\n",
       "    <tr>\n",
       "      <th>3</th>\n",
       "      <td>\"The behemoth cryptocurrency exchange Coinbase...</td>\n",
       "      <td>1.057670e+18</td>\n",
       "      <td>140</td>\n",
       "      <td>31/10/2018 16:25</td>\n",
       "      <td>TweetDeck</td>\n",
       "      <td>117</td>\n",
       "      <td>44</td>\n",
       "      <td>positive</td>\n",
       "      <td>0.250000</td>\n",
       "      <td>0.300000</td>\n",
       "      <td>False</td>\n",
       "      <td>False</td>\n",
       "      <td>True</td>\n",
       "    </tr>\n",
       "    <tr>\n",
       "      <th>4</th>\n",
       "      <td>Pandacash is a “one-click” Bitcoin Cash blockc...</td>\n",
       "      <td>1.057650e+18</td>\n",
       "      <td>140</td>\n",
       "      <td>31/10/2018 15:24</td>\n",
       "      <td>TweetDeck</td>\n",
       "      <td>58</td>\n",
       "      <td>36</td>\n",
       "      <td>positive</td>\n",
       "      <td>0.500000</td>\n",
       "      <td>0.500000</td>\n",
       "      <td>False</td>\n",
       "      <td>True</td>\n",
       "      <td>False</td>\n",
       "    </tr>\n",
       "  </tbody>\n",
       "</table>\n",
       "</div>"
      ],
      "text/plain": [
       "                                              tweets            id  len  \\\n",
       "0  Bitcoin Cash Continues to Skyrocket 15% to $53...  1.059190e+18   91   \n",
       "1  RT @CoinSpice: Leaders in the #BCH space @ryan...  1.058070e+18  140   \n",
       "2  RT @HelloVoltaire: You can now use @handcashap...  1.057730e+18  140   \n",
       "3  \"The behemoth cryptocurrency exchange Coinbase...  1.057670e+18  140   \n",
       "4  Pandacash is a “one-click” Bitcoin Cash blockc...  1.057650e+18  140   \n",
       "\n",
       "               date              source  likes  retweets sentiment  polarity  \\\n",
       "0   4/11/2018 21:10  Twitter Web Client    396       157  positive  0.000000   \n",
       "1   1/11/2018 19:14  Twitter Web Client      0        42   neutral -0.155556   \n",
       "2  31/10/2018 20:12  Twitter Web Client      0        49   neutral  0.000000   \n",
       "3  31/10/2018 16:25           TweetDeck    117        44  positive  0.250000   \n",
       "4  31/10/2018 15:24           TweetDeck     58        36  positive  0.500000   \n",
       "\n",
       "   subjectivity  neg_score  pos_score  neu_score  \n",
       "0      0.000000      False      False       True  \n",
       "1      0.288889      False      False       True  \n",
       "2      0.000000      False      False       True  \n",
       "3      0.300000      False      False       True  \n",
       "4      0.500000      False       True      False  "
      ]
     },
     "execution_count": 71,
     "metadata": {},
     "output_type": "execute_result"
    }
   ],
   "source": [
    "df.head()"
   ]
  },
  {
   "cell_type": "code",
   "execution_count": null,
   "metadata": {},
   "outputs": [],
   "source": [
    "# Some data manipulation for renaming the column names.\n",
    "#negative['neg_pol'] = negative['polarity']\n",
    "#negative['neg_subjectivity'] = negative['subjectivity']\n",
    "\n",
    "# Dropping the duplicate columns.\n",
    "#negative.drop(['subjectivity'],axis=1,inplace=True)\n",
    "#negative.drop(['polarity'],axis=1,inplace=True)\n",
    "\n",
    "# Print the head for negative scores.\n",
    "negative.head()"
   ]
  },
  {
   "cell_type": "code",
   "execution_count": null,
   "metadata": {},
   "outputs": [],
   "source": [
    "# Some data manipulation for renaming the column names.\n",
    "#positive['pos_pol'] = positive['polarity']\n",
    "#positive['pos_subjectivity'] = positive['subjectivity']\n",
    "\n",
    "# Dropping the duplicate columns.\n",
    "#positive.drop(['subjectivity'],axis=1,inplace=True)\n",
    "#positive.drop(['polarity'],axis=1,inplace=True)\n",
    "\n",
    "# Print the head for positive scores.\n",
    "positive.head()"
   ]
  },
  {
   "cell_type": "code",
   "execution_count": null,
   "metadata": {},
   "outputs": [],
   "source": [
    "# Some data manipulation for renaming the column names.\n",
    "#neutral['neu_pol'] = neutral['polarity']\n",
    "#neutral['neu_subjectivity'] = neutral['subjectivity']\n",
    "\n",
    "# Dropping the duplicate columns.\n",
    "#neutral.drop(['subjectivity'],axis=1,inplace=True)\n",
    "#neutral.drop(['polarity'],axis=1,inplace=True)\n",
    "\n",
    "# Print the head for neutral scores.\n",
    "neutral.head()"
   ]
  },
  {
   "cell_type": "markdown",
   "metadata": {},
   "source": [
    "objectivity = 1. - (pos_score + neg_score)\n",
    "pos_vs_neg = pos_score - neg_score"
   ]
  },
  {
   "cell_type": "code",
   "execution_count": null,
   "metadata": {},
   "outputs": [],
   "source": [
    "\n",
    "df_new=pd.DataFrame()\n",
    "df_new['neg_score'] = negative['neg_pol']\n",
    "df_new['pos_score'] = positive['pos_pol']\n"
   ]
  },
  {
   "cell_type": "code",
   "execution_count": null,
   "metadata": {},
   "outputs": [],
   "source": [
    "df_new.pos_score.notnull()"
   ]
  },
  {
   "cell_type": "code",
   "execution_count": null,
   "metadata": {},
   "outputs": [],
   "source": []
  }
 ],
 "metadata": {
  "kernelspec": {
   "display_name": "Python 3",
   "language": "python",
   "name": "python3"
  },
  "language_info": {
   "codemirror_mode": {
    "name": "ipython",
    "version": 3
   },
   "file_extension": ".py",
   "mimetype": "text/x-python",
   "name": "python",
   "nbconvert_exporter": "python",
   "pygments_lexer": "ipython3",
   "version": "3.6.5"
  }
 },
 "nbformat": 4,
 "nbformat_minor": 2
}
