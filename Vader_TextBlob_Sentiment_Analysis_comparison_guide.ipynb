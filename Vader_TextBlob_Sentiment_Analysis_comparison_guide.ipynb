{
 "cells": [
  {
   "cell_type": "markdown",
   "metadata": {},
   "source": [
    "## Sentiment Analysis using Vader and Text Blob\n",
    "\n",
    "*Author : Ayesha Khatib*"
   ]
  },
  {
   "cell_type": "markdown",
   "metadata": {},
   "source": [
    "### Import the packages"
   ]
  },
  {
   "cell_type": "code",
   "execution_count": null,
   "metadata": {},
   "outputs": [],
   "source": [
    "import pandas as pd\n",
    "import numpy as np\n",
    "import matplotlib.pyplot as plt\n",
    "import matplotlib.animation as animation\n",
    "import time\n",
    "import seaborn as sns\n",
    "\n",
    "from vaderSentiment.vaderSentiment import SentimentIntensityAnalyzer\n",
    "analyzer = SentimentIntensityAnalyzer()\n",
    "\n",
    "from pandas import Series, DataFrame\n",
    "from textblob import TextBlob as tb\n",
    "from matplotlib import style"
   ]
  },
  {
   "cell_type": "markdown",
   "metadata": {},
   "source": [
    "### Sentiment analysis has two approaches : \n",
    "1. Polarity-based which provides the result as 'positive' (1), 'negative' (-1) and 'neutral' (0) as the output.\n",
    "2. Valence-based which uses lexicon to provide ratings or weigtage to sentiment words and provides four scores : pos,neg,neu and compound.\n",
    "*(Compound is final score which is the sum of all the lexicon ratings and is standardised to range between -1 or 1)*\n",
    "\n",
    "#### Below are some examples of how both works."
   ]
  },
  {
   "cell_type": "code",
   "execution_count": 394,
   "metadata": {},
   "outputs": [],
   "source": [
    "sentence1 = \"The Bitcoin price has gone UP, time to SELL :)\" # HIGH POSITIVE\n",
    "sentence2 = \"WOW!!! There is a Sale in the nearby shopping centre.\" # POSITIVE to NEUTRAL\n",
    "sentence3 = 'The Airline XYZ is horrible, got delayed and OMG no apologies from the staff.' # HIGH NEGATIVE"
   ]
  },
  {
   "cell_type": "code",
   "execution_count": 395,
   "metadata": {},
   "outputs": [],
   "source": [
    "# Import the packages for Vader sentiment analysis\n",
    "\n",
    "from vaderSentiment.vaderSentiment import SentimentIntensityAnalyzer\n",
    "analyzer = SentimentIntensityAnalyzer()"
   ]
  },
  {
   "cell_type": "code",
   "execution_count": 396,
   "metadata": {},
   "outputs": [],
   "source": [
    "def vd_sentiment_scores(sentence):\n",
    "    snt = analyser.polarity_scores(sentence)\n",
    "    print(str(snt))"
   ]
  },
  {
   "cell_type": "code",
   "execution_count": 397,
   "metadata": {},
   "outputs": [
    {
     "name": "stdout",
     "output_type": "stream",
     "text": [
      "{'neg': 0.0, 'neu': 0.75, 'pos': 0.25, 'compound': 0.4588}\n",
      "None\n",
      "\n",
      "{'neg': 0.0, 'neu': 0.597, 'pos': 0.403, 'compound': 0.7513}\n",
      "None\n",
      "\n",
      "{'neg': 0.409, 'neu': 0.591, 'pos': 0.0, 'compound': -0.765}\n",
      "None\n"
     ]
    }
   ],
   "source": [
    "print(vd_sentiment_scores(sentence1))\n",
    "print('')\n",
    "print(vd_sentiment_scores(sentence2))\n",
    "print('')\n",
    "print(vd_sentiment_scores(sentence3))"
   ]
  },
  {
   "cell_type": "code",
   "execution_count": 398,
   "metadata": {},
   "outputs": [],
   "source": [
    "# Import the packages for Textblob sentiment analysis\n",
    "\n",
    "from textblob import TextBlob "
   ]
  },
  {
   "cell_type": "code",
   "execution_count": 399,
   "metadata": {},
   "outputs": [],
   "source": [
    "def tb_analyze_sentiment(text):\n",
    "        analysis = TextBlob(text)\n",
    "        #sentiment= None\n",
    "        if analysis.sentiment.polarity > 0:\n",
    "            return 'positive'\n",
    "        elif analysis.sentiment.polarity == 0:\n",
    "            return 'neutral'\n",
    "        else:\n",
    "            return 'negative'"
   ]
  },
  {
   "cell_type": "code",
   "execution_count": 400,
   "metadata": {},
   "outputs": [
    {
     "name": "stdout",
     "output_type": "stream",
     "text": [
      "positive\n",
      "\n",
      "positive\n",
      "\n",
      "negative\n"
     ]
    }
   ],
   "source": [
    "print(tb_analyze_sentiment(sentence1))\n",
    "print()\n",
    "print(tb_analyze_sentiment(sentence2))\n",
    "print()\n",
    "print(tb_analyze_sentiment(sentence3))"
   ]
  },
  {
   "cell_type": "markdown",
   "metadata": {},
   "source": [
    "### Findings ::"
   ]
  },
  {
   "cell_type": "markdown",
   "metadata": {},
   "source": [
    "- Both ouputs are giving similar results but little surpised by VADER, giving sentence 1 as not that High positive, inspite having a capital and happy emoticon in it."
   ]
  },
  {
   "cell_type": "markdown",
   "metadata": {},
   "source": [
    "### Sentiment analysis using Text blob\n",
    "\n",
    "- TextBlob is a Python (2 and 3) library for processing textual data. It provides a simple API for diving into common natural language processing (NLP) tasks such as part-of-speech tagging, noun phrase extraction, sentiment analysis, classification, translation, and more.\n",
    "https://textblob.readthedocs.io/en/dev/\n",
    "\n",
    "- TextBlob can do more than text analysis like language translation, Part-of-speech tagging, Tokenization (splitting text into words and sentences) etc. "
   ]
  },
  {
   "cell_type": "markdown",
   "metadata": {},
   "source": [
    "### Installation of TextBlob :\n",
    "pip install -U textblob\n",
    "\n",
    "$ python -m textblob.download_corpora"
   ]
  },
  {
   "cell_type": "markdown",
   "metadata": {},
   "source": [
    "### Load the csv"
   ]
  },
  {
   "cell_type": "code",
   "execution_count": 463,
   "metadata": {},
   "outputs": [],
   "source": [
    "# Add a new column as sentiment with zero values.\n",
    "df_textBlob = pd.read_csv('./tweets_concat_result_1stDec_updated.csv') # 1/12/2018"
   ]
  },
  {
   "cell_type": "code",
   "execution_count": 464,
   "metadata": {},
   "outputs": [
    {
     "data": {
      "text/html": [
       "<div>\n",
       "<style scoped>\n",
       "    .dataframe tbody tr th:only-of-type {\n",
       "        vertical-align: middle;\n",
       "    }\n",
       "\n",
       "    .dataframe tbody tr th {\n",
       "        vertical-align: top;\n",
       "    }\n",
       "\n",
       "    .dataframe thead th {\n",
       "        text-align: right;\n",
       "    }\n",
       "</style>\n",
       "<table border=\"1\" class=\"dataframe\">\n",
       "  <thead>\n",
       "    <tr style=\"text-align: right;\">\n",
       "      <th></th>\n",
       "      <th>tweets</th>\n",
       "      <th>id</th>\n",
       "      <th>len</th>\n",
       "      <th>date</th>\n",
       "      <th>source</th>\n",
       "      <th>likes</th>\n",
       "      <th>retweets</th>\n",
       "    </tr>\n",
       "  </thead>\n",
       "  <tbody>\n",
       "    <tr>\n",
       "      <th>0</th>\n",
       "      <td>Bitcoin Cash Continues to Skyrocket 15% to $53...</td>\n",
       "      <td>1.060000e+18</td>\n",
       "      <td>91</td>\n",
       "      <td>4/11/2018 21:10</td>\n",
       "      <td>Twitter Web Client</td>\n",
       "      <td>396</td>\n",
       "      <td>157</td>\n",
       "    </tr>\n",
       "    <tr>\n",
       "      <th>1</th>\n",
       "      <td>RT @CoinSpice: Leaders in the #BCH space @ryan...</td>\n",
       "      <td>1.060000e+18</td>\n",
       "      <td>140</td>\n",
       "      <td>1/11/2018 19:14</td>\n",
       "      <td>Twitter Web Client</td>\n",
       "      <td>0</td>\n",
       "      <td>42</td>\n",
       "    </tr>\n",
       "    <tr>\n",
       "      <th>2</th>\n",
       "      <td>RT @HelloVoltaire: You can now use @handcashap...</td>\n",
       "      <td>1.060000e+18</td>\n",
       "      <td>140</td>\n",
       "      <td>31/10/2018 20:12</td>\n",
       "      <td>Twitter Web Client</td>\n",
       "      <td>0</td>\n",
       "      <td>49</td>\n",
       "    </tr>\n",
       "    <tr>\n",
       "      <th>3</th>\n",
       "      <td>\"The behemoth cryptocurrency exchange Coinbase...</td>\n",
       "      <td>1.060000e+18</td>\n",
       "      <td>140</td>\n",
       "      <td>31/10/2018 16:25</td>\n",
       "      <td>TweetDeck</td>\n",
       "      <td>117</td>\n",
       "      <td>44</td>\n",
       "    </tr>\n",
       "    <tr>\n",
       "      <th>4</th>\n",
       "      <td>Pandacash is a “one-click” Bitcoin Cash blockc...</td>\n",
       "      <td>1.060000e+18</td>\n",
       "      <td>140</td>\n",
       "      <td>31/10/2018 15:24</td>\n",
       "      <td>TweetDeck</td>\n",
       "      <td>58</td>\n",
       "      <td>36</td>\n",
       "    </tr>\n",
       "  </tbody>\n",
       "</table>\n",
       "</div>"
      ],
      "text/plain": [
       "                                              tweets            id  len  \\\n",
       "0  Bitcoin Cash Continues to Skyrocket 15% to $53...  1.060000e+18   91   \n",
       "1  RT @CoinSpice: Leaders in the #BCH space @ryan...  1.060000e+18  140   \n",
       "2  RT @HelloVoltaire: You can now use @handcashap...  1.060000e+18  140   \n",
       "3  \"The behemoth cryptocurrency exchange Coinbase...  1.060000e+18  140   \n",
       "4  Pandacash is a “one-click” Bitcoin Cash blockc...  1.060000e+18  140   \n",
       "\n",
       "               date              source  likes  retweets  \n",
       "0   4/11/2018 21:10  Twitter Web Client    396       157  \n",
       "1   1/11/2018 19:14  Twitter Web Client      0        42  \n",
       "2  31/10/2018 20:12  Twitter Web Client      0        49  \n",
       "3  31/10/2018 16:25           TweetDeck    117        44  \n",
       "4  31/10/2018 15:24           TweetDeck     58        36  "
      ]
     },
     "execution_count": 464,
     "metadata": {},
     "output_type": "execute_result"
    }
   ],
   "source": [
    "#df_sent.drop('Unnamed: 0',axis=1,inplace=True)\n",
    "df_textBlob.head()"
   ]
  },
  {
   "cell_type": "code",
   "execution_count": 465,
   "metadata": {},
   "outputs": [
    {
     "data": {
      "text/plain": [
       "tweets       object\n",
       "id          float64\n",
       "len           int64\n",
       "date         object\n",
       "source       object\n",
       "likes         int64\n",
       "retweets      int64\n",
       "dtype: object"
      ]
     },
     "execution_count": 465,
     "metadata": {},
     "output_type": "execute_result"
    }
   ],
   "source": [
    "df_textBlob.dtypes"
   ]
  },
  {
   "cell_type": "code",
   "execution_count": 466,
   "metadata": {},
   "outputs": [
    {
     "data": {
      "text/plain": [
       "'Bitcoin Cash Continues to Skyrocket 15% to $535, Volume Quintuples\\r\\r\\r\\r\\n\\r\\r\\r\\r\\nhttps://t.co/9RJsrlbHL2'"
      ]
     },
     "execution_count": 466,
     "metadata": {},
     "output_type": "execute_result"
    }
   ],
   "source": [
    "df_textBlob['tweets'][0]"
   ]
  },
  {
   "cell_type": "markdown",
   "metadata": {},
   "source": [
    "### For Sentiment value based on Sentiment polarity"
   ]
  },
  {
   "cell_type": "code",
   "execution_count": 467,
   "metadata": {},
   "outputs": [],
   "source": [
    "# Add a new column as sentiment with zero values.\n",
    "df_textBlob['sentiment'] = 0\n",
    "df_textBlob['sentiment_value'] = 0"
   ]
  },
  {
   "cell_type": "code",
   "execution_count": 468,
   "metadata": {},
   "outputs": [
    {
     "data": {
      "text/html": [
       "<div>\n",
       "<style scoped>\n",
       "    .dataframe tbody tr th:only-of-type {\n",
       "        vertical-align: middle;\n",
       "    }\n",
       "\n",
       "    .dataframe tbody tr th {\n",
       "        vertical-align: top;\n",
       "    }\n",
       "\n",
       "    .dataframe thead th {\n",
       "        text-align: right;\n",
       "    }\n",
       "</style>\n",
       "<table border=\"1\" class=\"dataframe\">\n",
       "  <thead>\n",
       "    <tr style=\"text-align: right;\">\n",
       "      <th></th>\n",
       "      <th>tweets</th>\n",
       "      <th>id</th>\n",
       "      <th>len</th>\n",
       "      <th>date</th>\n",
       "      <th>source</th>\n",
       "      <th>likes</th>\n",
       "      <th>retweets</th>\n",
       "      <th>sentiment</th>\n",
       "      <th>sentiment_value</th>\n",
       "    </tr>\n",
       "  </thead>\n",
       "  <tbody>\n",
       "    <tr>\n",
       "      <th>0</th>\n",
       "      <td>Bitcoin Cash Continues to Skyrocket 15% to $53...</td>\n",
       "      <td>1.060000e+18</td>\n",
       "      <td>91</td>\n",
       "      <td>4/11/2018 21:10</td>\n",
       "      <td>Twitter Web Client</td>\n",
       "      <td>396</td>\n",
       "      <td>157</td>\n",
       "      <td>0</td>\n",
       "      <td>0</td>\n",
       "    </tr>\n",
       "    <tr>\n",
       "      <th>1</th>\n",
       "      <td>RT @CoinSpice: Leaders in the #BCH space @ryan...</td>\n",
       "      <td>1.060000e+18</td>\n",
       "      <td>140</td>\n",
       "      <td>1/11/2018 19:14</td>\n",
       "      <td>Twitter Web Client</td>\n",
       "      <td>0</td>\n",
       "      <td>42</td>\n",
       "      <td>0</td>\n",
       "      <td>0</td>\n",
       "    </tr>\n",
       "    <tr>\n",
       "      <th>2</th>\n",
       "      <td>RT @HelloVoltaire: You can now use @handcashap...</td>\n",
       "      <td>1.060000e+18</td>\n",
       "      <td>140</td>\n",
       "      <td>31/10/2018 20:12</td>\n",
       "      <td>Twitter Web Client</td>\n",
       "      <td>0</td>\n",
       "      <td>49</td>\n",
       "      <td>0</td>\n",
       "      <td>0</td>\n",
       "    </tr>\n",
       "    <tr>\n",
       "      <th>3</th>\n",
       "      <td>\"The behemoth cryptocurrency exchange Coinbase...</td>\n",
       "      <td>1.060000e+18</td>\n",
       "      <td>140</td>\n",
       "      <td>31/10/2018 16:25</td>\n",
       "      <td>TweetDeck</td>\n",
       "      <td>117</td>\n",
       "      <td>44</td>\n",
       "      <td>0</td>\n",
       "      <td>0</td>\n",
       "    </tr>\n",
       "    <tr>\n",
       "      <th>4</th>\n",
       "      <td>Pandacash is a “one-click” Bitcoin Cash blockc...</td>\n",
       "      <td>1.060000e+18</td>\n",
       "      <td>140</td>\n",
       "      <td>31/10/2018 15:24</td>\n",
       "      <td>TweetDeck</td>\n",
       "      <td>58</td>\n",
       "      <td>36</td>\n",
       "      <td>0</td>\n",
       "      <td>0</td>\n",
       "    </tr>\n",
       "  </tbody>\n",
       "</table>\n",
       "</div>"
      ],
      "text/plain": [
       "                                              tweets            id  len  \\\n",
       "0  Bitcoin Cash Continues to Skyrocket 15% to $53...  1.060000e+18   91   \n",
       "1  RT @CoinSpice: Leaders in the #BCH space @ryan...  1.060000e+18  140   \n",
       "2  RT @HelloVoltaire: You can now use @handcashap...  1.060000e+18  140   \n",
       "3  \"The behemoth cryptocurrency exchange Coinbase...  1.060000e+18  140   \n",
       "4  Pandacash is a “one-click” Bitcoin Cash blockc...  1.060000e+18  140   \n",
       "\n",
       "               date              source  likes  retweets  sentiment  \\\n",
       "0   4/11/2018 21:10  Twitter Web Client    396       157          0   \n",
       "1   1/11/2018 19:14  Twitter Web Client      0        42          0   \n",
       "2  31/10/2018 20:12  Twitter Web Client      0        49          0   \n",
       "3  31/10/2018 16:25           TweetDeck    117        44          0   \n",
       "4  31/10/2018 15:24           TweetDeck     58        36          0   \n",
       "\n",
       "   sentiment_value  \n",
       "0                0  \n",
       "1                0  \n",
       "2                0  \n",
       "3                0  \n",
       "4                0  "
      ]
     },
     "execution_count": 468,
     "metadata": {},
     "output_type": "execute_result"
    }
   ],
   "source": [
    "df_textBlob.head()"
   ]
  },
  {
   "cell_type": "code",
   "execution_count": 469,
   "metadata": {},
   "outputs": [
    {
     "data": {
      "text/plain": [
       "(1113, 9)"
      ]
     },
     "execution_count": 469,
     "metadata": {},
     "output_type": "execute_result"
    }
   ],
   "source": [
    "df_textBlob.shape"
   ]
  },
  {
   "cell_type": "code",
   "execution_count": 470,
   "metadata": {},
   "outputs": [],
   "source": [
    "import re \n",
    "\n",
    "class TweetAnalyzer():\n",
    "    \n",
    "    # Functionality for analyzing and categorizing content from tweets.\n",
    "    \n",
    "    def clean_tweet(self, tweet):\n",
    "        return ' '.join(re.sub(\"(@[A-Za-z0-9]+)|([^0-9A-Za-z \\t])|(\\w+:\\/\\/\\S+)\", \" \", tweet).split())\n",
    "\n",
    "    def analyze_sentiment(self, tweet):\n",
    "        analysis = TextBlob(self.clean_tweet(tweet))\n",
    "        #sentiment= None\n",
    "        if analysis.sentiment.polarity > 0:\n",
    "            return 'positive'\n",
    "        elif analysis.sentiment.polarity == 0:\n",
    "            return 'neutral'\n",
    "        else:\n",
    "            return 'negative'\n",
    "        \n",
    "    def analyze_sentiment_value(self, tweet):\n",
    "        analysis_val = TextBlob(self.clean_tweet(tweet))\n",
    "        #sentiment= None\n",
    "        if analysis_val.sentiment.polarity > 0:\n",
    "            return 1\n",
    "        elif analysis_val.sentiment.polarity == 0:\n",
    "            return 0\n",
    "        else:\n",
    "            return -1\n",
    "        \n",
    "\n",
    "    def tweets_to_data_frame(self, tweets):\n",
    "        #df = pd.DataFrame(data=[tweet.text for tweet in tweets], columns=['tweets'])\n",
    "\n",
    "        df['sentiment'] = np.array([tweet.id for tweet in tweets])\n",
    "        df['sentiment_value'] = np.array([tweet.id for tweet in tweets])"
   ]
  },
  {
   "cell_type": "raw",
   "metadata": {},
   "source": [
    "# Option 2: \n",
    "cols = {'sentiment':[],'sentiment_val' : []}\n",
    "df1=pd.DataFrame(data=cols)\n",
    "df1.sentiment = df.sentiment\n",
    "\n",
    "\n",
    "df1.sentiment_val.append(df1.sentiment.map(lambda x: -1 if x == 'negative' \n",
    "                                                else 1 if x == 'positive' \n",
    "                                                else 0 ))\n",
    "df1.head()"
   ]
  },
  {
   "cell_type": "code",
   "execution_count": 471,
   "metadata": {},
   "outputs": [],
   "source": [
    "tweet_analyzer = TweetAnalyzer()\n",
    "#df = tweet_analyzer.tweets_to_data_frame(tweets)\n",
    "df_textBlob['sentiment'] = np.array([tweet_analyzer.analyze_sentiment(tweet) for tweet in df_textBlob['tweets']])\n",
    "df_textBlob['sentiment_value'] = np.array([tweet_analyzer.analyze_sentiment_value(tweet) for tweet in df_textBlob['tweets']])"
   ]
  },
  {
   "cell_type": "code",
   "execution_count": 472,
   "metadata": {},
   "outputs": [
    {
     "data": {
      "text/html": [
       "<div>\n",
       "<style scoped>\n",
       "    .dataframe tbody tr th:only-of-type {\n",
       "        vertical-align: middle;\n",
       "    }\n",
       "\n",
       "    .dataframe tbody tr th {\n",
       "        vertical-align: top;\n",
       "    }\n",
       "\n",
       "    .dataframe thead th {\n",
       "        text-align: right;\n",
       "    }\n",
       "</style>\n",
       "<table border=\"1\" class=\"dataframe\">\n",
       "  <thead>\n",
       "    <tr style=\"text-align: right;\">\n",
       "      <th></th>\n",
       "      <th>tweets</th>\n",
       "      <th>id</th>\n",
       "      <th>len</th>\n",
       "      <th>date</th>\n",
       "      <th>source</th>\n",
       "      <th>likes</th>\n",
       "      <th>retweets</th>\n",
       "      <th>sentiment</th>\n",
       "      <th>sentiment_value</th>\n",
       "    </tr>\n",
       "  </thead>\n",
       "  <tbody>\n",
       "    <tr>\n",
       "      <th>0</th>\n",
       "      <td>Bitcoin Cash Continues to Skyrocket 15% to $53...</td>\n",
       "      <td>1.060000e+18</td>\n",
       "      <td>91</td>\n",
       "      <td>4/11/2018 21:10</td>\n",
       "      <td>Twitter Web Client</td>\n",
       "      <td>396</td>\n",
       "      <td>157</td>\n",
       "      <td>neutral</td>\n",
       "      <td>0</td>\n",
       "    </tr>\n",
       "    <tr>\n",
       "      <th>1</th>\n",
       "      <td>RT @CoinSpice: Leaders in the #BCH space @ryan...</td>\n",
       "      <td>1.060000e+18</td>\n",
       "      <td>140</td>\n",
       "      <td>1/11/2018 19:14</td>\n",
       "      <td>Twitter Web Client</td>\n",
       "      <td>0</td>\n",
       "      <td>42</td>\n",
       "      <td>negative</td>\n",
       "      <td>-1</td>\n",
       "    </tr>\n",
       "    <tr>\n",
       "      <th>2</th>\n",
       "      <td>RT @HelloVoltaire: You can now use @handcashap...</td>\n",
       "      <td>1.060000e+18</td>\n",
       "      <td>140</td>\n",
       "      <td>31/10/2018 20:12</td>\n",
       "      <td>Twitter Web Client</td>\n",
       "      <td>0</td>\n",
       "      <td>49</td>\n",
       "      <td>neutral</td>\n",
       "      <td>0</td>\n",
       "    </tr>\n",
       "    <tr>\n",
       "      <th>3</th>\n",
       "      <td>\"The behemoth cryptocurrency exchange Coinbase...</td>\n",
       "      <td>1.060000e+18</td>\n",
       "      <td>140</td>\n",
       "      <td>31/10/2018 16:25</td>\n",
       "      <td>TweetDeck</td>\n",
       "      <td>117</td>\n",
       "      <td>44</td>\n",
       "      <td>positive</td>\n",
       "      <td>1</td>\n",
       "    </tr>\n",
       "    <tr>\n",
       "      <th>4</th>\n",
       "      <td>Pandacash is a “one-click” Bitcoin Cash blockc...</td>\n",
       "      <td>1.060000e+18</td>\n",
       "      <td>140</td>\n",
       "      <td>31/10/2018 15:24</td>\n",
       "      <td>TweetDeck</td>\n",
       "      <td>58</td>\n",
       "      <td>36</td>\n",
       "      <td>positive</td>\n",
       "      <td>1</td>\n",
       "    </tr>\n",
       "  </tbody>\n",
       "</table>\n",
       "</div>"
      ],
      "text/plain": [
       "                                              tweets            id  len  \\\n",
       "0  Bitcoin Cash Continues to Skyrocket 15% to $53...  1.060000e+18   91   \n",
       "1  RT @CoinSpice: Leaders in the #BCH space @ryan...  1.060000e+18  140   \n",
       "2  RT @HelloVoltaire: You can now use @handcashap...  1.060000e+18  140   \n",
       "3  \"The behemoth cryptocurrency exchange Coinbase...  1.060000e+18  140   \n",
       "4  Pandacash is a “one-click” Bitcoin Cash blockc...  1.060000e+18  140   \n",
       "\n",
       "               date              source  likes  retweets sentiment  \\\n",
       "0   4/11/2018 21:10  Twitter Web Client    396       157   neutral   \n",
       "1   1/11/2018 19:14  Twitter Web Client      0        42  negative   \n",
       "2  31/10/2018 20:12  Twitter Web Client      0        49   neutral   \n",
       "3  31/10/2018 16:25           TweetDeck    117        44  positive   \n",
       "4  31/10/2018 15:24           TweetDeck     58        36  positive   \n",
       "\n",
       "   sentiment_value  \n",
       "0                0  \n",
       "1               -1  \n",
       "2                0  \n",
       "3                1  \n",
       "4                1  "
      ]
     },
     "execution_count": 472,
     "metadata": {},
     "output_type": "execute_result"
    }
   ],
   "source": [
    "df_textBlob.head()"
   ]
  },
  {
   "cell_type": "code",
   "execution_count": 473,
   "metadata": {},
   "outputs": [
    {
     "data": {
      "text/plain": [
       "(1113, 9)"
      ]
     },
     "execution_count": 473,
     "metadata": {},
     "output_type": "execute_result"
    }
   ],
   "source": [
    "df_textBlob.shape"
   ]
  },
  {
   "cell_type": "code",
   "execution_count": 474,
   "metadata": {},
   "outputs": [],
   "source": [
    "# Save the file\n",
    "df_textBlob.to_csv('tweets_textblob_sentiments.csv', sep=',',encoding='utf-8' )"
   ]
  },
  {
   "cell_type": "markdown",
   "metadata": {},
   "source": [
    "## VADER : *V*alence *A*ware *D*ictionary for S*e*ntiment *R*easoning\n",
    "\n",
    "---\n",
    "- Vader is one of the approach to perform Sentiment analysis for a given text and results 'positive', 'negative','neutral' and 'compound' ratings.\n",
    "- Vader is lexicon-based (dictionary-based) sentiment analysis approach.\n",
    "- Unlike polarity based analysis where for example, says excellent and good have positive sentiment but in Vader it would say excellent has higher positive rating than good, lets say 1.9 and 1.8 positive score respectively. The advantage of such analysis proves to provide a precise resultant sentiment rating.\n",
    "- Compound score is sum of all lexicon ratings which has been standardised to a range between -1 and 1."
   ]
  },
  {
   "cell_type": "markdown",
   "metadata": {},
   "source": [
    "#### Firstly install through command line :: \n",
    "\n",
    "pip install vaderSentiment"
   ]
  },
  {
   "cell_type": "code",
   "execution_count": 475,
   "metadata": {},
   "outputs": [],
   "source": [
    "# Add a new column as sentiment with zero values.\n",
    "df = pd.read_csv('./tweets_concat_result_1stDec_updated.csv') # 1/12/2018"
   ]
  },
  {
   "cell_type": "code",
   "execution_count": 477,
   "metadata": {},
   "outputs": [
    {
     "data": {
      "text/html": [
       "<div>\n",
       "<style scoped>\n",
       "    .dataframe tbody tr th:only-of-type {\n",
       "        vertical-align: middle;\n",
       "    }\n",
       "\n",
       "    .dataframe tbody tr th {\n",
       "        vertical-align: top;\n",
       "    }\n",
       "\n",
       "    .dataframe thead th {\n",
       "        text-align: right;\n",
       "    }\n",
       "</style>\n",
       "<table border=\"1\" class=\"dataframe\">\n",
       "  <thead>\n",
       "    <tr style=\"text-align: right;\">\n",
       "      <th></th>\n",
       "      <th>tweets</th>\n",
       "      <th>id</th>\n",
       "      <th>len</th>\n",
       "      <th>date</th>\n",
       "      <th>source</th>\n",
       "      <th>likes</th>\n",
       "      <th>retweets</th>\n",
       "    </tr>\n",
       "  </thead>\n",
       "  <tbody>\n",
       "    <tr>\n",
       "      <th>0</th>\n",
       "      <td>Bitcoin Cash Continues to Skyrocket 15% to $53...</td>\n",
       "      <td>1.060000e+18</td>\n",
       "      <td>91</td>\n",
       "      <td>4/11/2018 21:10</td>\n",
       "      <td>Twitter Web Client</td>\n",
       "      <td>396</td>\n",
       "      <td>157</td>\n",
       "    </tr>\n",
       "    <tr>\n",
       "      <th>1</th>\n",
       "      <td>RT @CoinSpice: Leaders in the #BCH space @ryan...</td>\n",
       "      <td>1.060000e+18</td>\n",
       "      <td>140</td>\n",
       "      <td>1/11/2018 19:14</td>\n",
       "      <td>Twitter Web Client</td>\n",
       "      <td>0</td>\n",
       "      <td>42</td>\n",
       "    </tr>\n",
       "  </tbody>\n",
       "</table>\n",
       "</div>"
      ],
      "text/plain": [
       "                                              tweets            id  len  \\\n",
       "0  Bitcoin Cash Continues to Skyrocket 15% to $53...  1.060000e+18   91   \n",
       "1  RT @CoinSpice: Leaders in the #BCH space @ryan...  1.060000e+18  140   \n",
       "\n",
       "              date              source  likes  retweets  \n",
       "0  4/11/2018 21:10  Twitter Web Client    396       157  \n",
       "1  1/11/2018 19:14  Twitter Web Client      0        42  "
      ]
     },
     "execution_count": 477,
     "metadata": {},
     "output_type": "execute_result"
    }
   ],
   "source": [
    "df.head(2)"
   ]
  },
  {
   "cell_type": "raw",
   "metadata": {},
   "source": [
    "# Define a simple function to extract sentiment scores\n",
    "\n",
    "def senti_score(sentence):\n",
    "    snt = analyser.polarity_scores(sentence)\n",
    "    return ([snt['neg'], snt['neu'], snt['pos'], snt['compound']])\n",
    "    #print(\"{:-<20} {}\".format(sentence, str(snt)))\n",
    "    return"
   ]
  },
  {
   "cell_type": "code",
   "execution_count": 480,
   "metadata": {},
   "outputs": [],
   "source": [
    "# Initialise empty lists to store results\n",
    "vs_compound = []\n",
    "vs_pos = []\n",
    "vs_neu = []\n",
    "vs_neg = []\n",
    "tweet=[]\n",
    "\n",
    "# For loop to iterate over the columns data and calculate the Vader sentiments scores.\n",
    "\n",
    "for i in range(0, len(df)):\n",
    "    #print(i)\n",
    "    tweet.append(df['tweets'][i])\n",
    "    vs_compound.append(analyzer.polarity_scores(df['tweets'][i])['compound'])\n",
    "    vs_pos.append(analyzer.polarity_scores(df['tweets'][i])['pos'])\n",
    "    vs_neu.append(analyzer.polarity_scores(df['tweets'][i])['neu'])\n",
    "    vs_neg.append(analyzer.polarity_scores(df['tweets'][i])['neg'])"
   ]
  },
  {
   "cell_type": "code",
   "execution_count": 482,
   "metadata": {},
   "outputs": [
    {
     "data": {
      "text/html": [
       "<div>\n",
       "<style scoped>\n",
       "    .dataframe tbody tr th:only-of-type {\n",
       "        vertical-align: middle;\n",
       "    }\n",
       "\n",
       "    .dataframe tbody tr th {\n",
       "        vertical-align: top;\n",
       "    }\n",
       "\n",
       "    .dataframe thead th {\n",
       "        text-align: right;\n",
       "    }\n",
       "</style>\n",
       "<table border=\"1\" class=\"dataframe\">\n",
       "  <thead>\n",
       "    <tr style=\"text-align: right;\">\n",
       "      <th></th>\n",
       "      <th>Tweets</th>\n",
       "      <th>Compound</th>\n",
       "      <th>Positive</th>\n",
       "      <th>Neutral</th>\n",
       "      <th>Negative</th>\n",
       "    </tr>\n",
       "  </thead>\n",
       "  <tbody>\n",
       "    <tr>\n",
       "      <th>0</th>\n",
       "      <td>Bitcoin Cash Continues to Skyrocket 15% to $53...</td>\n",
       "      <td>0.0000</td>\n",
       "      <td>0.000</td>\n",
       "      <td>1.000</td>\n",
       "      <td>0.0</td>\n",
       "    </tr>\n",
       "    <tr>\n",
       "      <th>1</th>\n",
       "      <td>RT @CoinSpice: Leaders in the #BCH space @ryan...</td>\n",
       "      <td>0.0000</td>\n",
       "      <td>0.000</td>\n",
       "      <td>1.000</td>\n",
       "      <td>0.0</td>\n",
       "    </tr>\n",
       "    <tr>\n",
       "      <th>2</th>\n",
       "      <td>RT @HelloVoltaire: You can now use @handcashap...</td>\n",
       "      <td>0.0000</td>\n",
       "      <td>0.000</td>\n",
       "      <td>1.000</td>\n",
       "      <td>0.0</td>\n",
       "    </tr>\n",
       "    <tr>\n",
       "      <th>3</th>\n",
       "      <td>\"The behemoth cryptocurrency exchange Coinbase...</td>\n",
       "      <td>0.4404</td>\n",
       "      <td>0.139</td>\n",
       "      <td>0.861</td>\n",
       "      <td>0.0</td>\n",
       "    </tr>\n",
       "    <tr>\n",
       "      <th>4</th>\n",
       "      <td>Pandacash is a “one-click” Bitcoin Cash blockc...</td>\n",
       "      <td>0.8360</td>\n",
       "      <td>0.357</td>\n",
       "      <td>0.643</td>\n",
       "      <td>0.0</td>\n",
       "    </tr>\n",
       "  </tbody>\n",
       "</table>\n",
       "</div>"
      ],
      "text/plain": [
       "                                              Tweets  Compound  Positive  \\\n",
       "0  Bitcoin Cash Continues to Skyrocket 15% to $53...    0.0000     0.000   \n",
       "1  RT @CoinSpice: Leaders in the #BCH space @ryan...    0.0000     0.000   \n",
       "2  RT @HelloVoltaire: You can now use @handcashap...    0.0000     0.000   \n",
       "3  \"The behemoth cryptocurrency exchange Coinbase...    0.4404     0.139   \n",
       "4  Pandacash is a “one-click” Bitcoin Cash blockc...    0.8360     0.357   \n",
       "\n",
       "   Neutral  Negative  \n",
       "0    1.000       0.0  \n",
       "1    1.000       0.0  \n",
       "2    1.000       0.0  \n",
       "3    0.861       0.0  \n",
       "4    0.643       0.0  "
      ]
     },
     "execution_count": 482,
     "metadata": {},
     "output_type": "execute_result"
    }
   ],
   "source": [
    "# Put all data in a dataframe.\n",
    "\n",
    "df_vader = pd.DataFrame({'Tweets':tweet,'Compound': vs_compound,\n",
    "                        'Positive': vs_pos,\n",
    "                        'Neutral': vs_neu,\n",
    "                        'Negative': vs_neg})\n",
    "df_vader = df_vader[['Tweets','Compound','Positive', 'Neutral', 'Negative']]\n",
    "\n",
    "# Have a look at the top 5 results.\n",
    "df_vader.head()"
   ]
  },
  {
   "cell_type": "markdown",
   "metadata": {},
   "source": [
    "### Combine the textBlob and Vader Sentiment analysis dataframe"
   ]
  },
  {
   "cell_type": "code",
   "execution_count": 483,
   "metadata": {},
   "outputs": [
    {
     "data": {
      "text/html": [
       "<div>\n",
       "<style scoped>\n",
       "    .dataframe tbody tr th:only-of-type {\n",
       "        vertical-align: middle;\n",
       "    }\n",
       "\n",
       "    .dataframe tbody tr th {\n",
       "        vertical-align: top;\n",
       "    }\n",
       "\n",
       "    .dataframe thead th {\n",
       "        text-align: right;\n",
       "    }\n",
       "</style>\n",
       "<table border=\"1\" class=\"dataframe\">\n",
       "  <thead>\n",
       "    <tr style=\"text-align: right;\">\n",
       "      <th></th>\n",
       "      <th>Tweets</th>\n",
       "      <th>Compound</th>\n",
       "      <th>Positive</th>\n",
       "      <th>Neutral</th>\n",
       "      <th>Negative</th>\n",
       "    </tr>\n",
       "  </thead>\n",
       "  <tbody>\n",
       "    <tr>\n",
       "      <th>0</th>\n",
       "      <td>Bitcoin Cash Continues to Skyrocket 15% to $53...</td>\n",
       "      <td>0.0000</td>\n",
       "      <td>0.000</td>\n",
       "      <td>1.000</td>\n",
       "      <td>0.0</td>\n",
       "    </tr>\n",
       "    <tr>\n",
       "      <th>1</th>\n",
       "      <td>RT @CoinSpice: Leaders in the #BCH space @ryan...</td>\n",
       "      <td>0.0000</td>\n",
       "      <td>0.000</td>\n",
       "      <td>1.000</td>\n",
       "      <td>0.0</td>\n",
       "    </tr>\n",
       "    <tr>\n",
       "      <th>2</th>\n",
       "      <td>RT @HelloVoltaire: You can now use @handcashap...</td>\n",
       "      <td>0.0000</td>\n",
       "      <td>0.000</td>\n",
       "      <td>1.000</td>\n",
       "      <td>0.0</td>\n",
       "    </tr>\n",
       "    <tr>\n",
       "      <th>3</th>\n",
       "      <td>\"The behemoth cryptocurrency exchange Coinbase...</td>\n",
       "      <td>0.4404</td>\n",
       "      <td>0.139</td>\n",
       "      <td>0.861</td>\n",
       "      <td>0.0</td>\n",
       "    </tr>\n",
       "    <tr>\n",
       "      <th>4</th>\n",
       "      <td>Pandacash is a “one-click” Bitcoin Cash blockc...</td>\n",
       "      <td>0.8360</td>\n",
       "      <td>0.357</td>\n",
       "      <td>0.643</td>\n",
       "      <td>0.0</td>\n",
       "    </tr>\n",
       "  </tbody>\n",
       "</table>\n",
       "</div>"
      ],
      "text/plain": [
       "                                              Tweets  Compound  Positive  \\\n",
       "0  Bitcoin Cash Continues to Skyrocket 15% to $53...    0.0000     0.000   \n",
       "1  RT @CoinSpice: Leaders in the #BCH space @ryan...    0.0000     0.000   \n",
       "2  RT @HelloVoltaire: You can now use @handcashap...    0.0000     0.000   \n",
       "3  \"The behemoth cryptocurrency exchange Coinbase...    0.4404     0.139   \n",
       "4  Pandacash is a “one-click” Bitcoin Cash blockc...    0.8360     0.357   \n",
       "\n",
       "   Neutral  Negative  \n",
       "0    1.000       0.0  \n",
       "1    1.000       0.0  \n",
       "2    1.000       0.0  \n",
       "3    0.861       0.0  \n",
       "4    0.643       0.0  "
      ]
     },
     "execution_count": 483,
     "metadata": {},
     "output_type": "execute_result"
    }
   ],
   "source": [
    "df_vader.head()"
   ]
  },
  {
   "cell_type": "code",
   "execution_count": 484,
   "metadata": {},
   "outputs": [
    {
     "data": {
      "text/html": [
       "<div>\n",
       "<style scoped>\n",
       "    .dataframe tbody tr th:only-of-type {\n",
       "        vertical-align: middle;\n",
       "    }\n",
       "\n",
       "    .dataframe tbody tr th {\n",
       "        vertical-align: top;\n",
       "    }\n",
       "\n",
       "    .dataframe thead th {\n",
       "        text-align: right;\n",
       "    }\n",
       "</style>\n",
       "<table border=\"1\" class=\"dataframe\">\n",
       "  <thead>\n",
       "    <tr style=\"text-align: right;\">\n",
       "      <th></th>\n",
       "      <th>tweets</th>\n",
       "      <th>id</th>\n",
       "      <th>len</th>\n",
       "      <th>date</th>\n",
       "      <th>source</th>\n",
       "      <th>likes</th>\n",
       "      <th>retweets</th>\n",
       "      <th>sentiment</th>\n",
       "      <th>sentiment_value</th>\n",
       "    </tr>\n",
       "  </thead>\n",
       "  <tbody>\n",
       "    <tr>\n",
       "      <th>0</th>\n",
       "      <td>Bitcoin Cash Continues to Skyrocket 15% to $53...</td>\n",
       "      <td>1.060000e+18</td>\n",
       "      <td>91</td>\n",
       "      <td>4/11/2018 21:10</td>\n",
       "      <td>Twitter Web Client</td>\n",
       "      <td>396</td>\n",
       "      <td>157</td>\n",
       "      <td>neutral</td>\n",
       "      <td>0</td>\n",
       "    </tr>\n",
       "    <tr>\n",
       "      <th>1</th>\n",
       "      <td>RT @CoinSpice: Leaders in the #BCH space @ryan...</td>\n",
       "      <td>1.060000e+18</td>\n",
       "      <td>140</td>\n",
       "      <td>1/11/2018 19:14</td>\n",
       "      <td>Twitter Web Client</td>\n",
       "      <td>0</td>\n",
       "      <td>42</td>\n",
       "      <td>negative</td>\n",
       "      <td>-1</td>\n",
       "    </tr>\n",
       "    <tr>\n",
       "      <th>2</th>\n",
       "      <td>RT @HelloVoltaire: You can now use @handcashap...</td>\n",
       "      <td>1.060000e+18</td>\n",
       "      <td>140</td>\n",
       "      <td>31/10/2018 20:12</td>\n",
       "      <td>Twitter Web Client</td>\n",
       "      <td>0</td>\n",
       "      <td>49</td>\n",
       "      <td>neutral</td>\n",
       "      <td>0</td>\n",
       "    </tr>\n",
       "    <tr>\n",
       "      <th>3</th>\n",
       "      <td>\"The behemoth cryptocurrency exchange Coinbase...</td>\n",
       "      <td>1.060000e+18</td>\n",
       "      <td>140</td>\n",
       "      <td>31/10/2018 16:25</td>\n",
       "      <td>TweetDeck</td>\n",
       "      <td>117</td>\n",
       "      <td>44</td>\n",
       "      <td>positive</td>\n",
       "      <td>1</td>\n",
       "    </tr>\n",
       "    <tr>\n",
       "      <th>4</th>\n",
       "      <td>Pandacash is a “one-click” Bitcoin Cash blockc...</td>\n",
       "      <td>1.060000e+18</td>\n",
       "      <td>140</td>\n",
       "      <td>31/10/2018 15:24</td>\n",
       "      <td>TweetDeck</td>\n",
       "      <td>58</td>\n",
       "      <td>36</td>\n",
       "      <td>positive</td>\n",
       "      <td>1</td>\n",
       "    </tr>\n",
       "  </tbody>\n",
       "</table>\n",
       "</div>"
      ],
      "text/plain": [
       "                                              tweets            id  len  \\\n",
       "0  Bitcoin Cash Continues to Skyrocket 15% to $53...  1.060000e+18   91   \n",
       "1  RT @CoinSpice: Leaders in the #BCH space @ryan...  1.060000e+18  140   \n",
       "2  RT @HelloVoltaire: You can now use @handcashap...  1.060000e+18  140   \n",
       "3  \"The behemoth cryptocurrency exchange Coinbase...  1.060000e+18  140   \n",
       "4  Pandacash is a “one-click” Bitcoin Cash blockc...  1.060000e+18  140   \n",
       "\n",
       "               date              source  likes  retweets sentiment  \\\n",
       "0   4/11/2018 21:10  Twitter Web Client    396       157   neutral   \n",
       "1   1/11/2018 19:14  Twitter Web Client      0        42  negative   \n",
       "2  31/10/2018 20:12  Twitter Web Client      0        49   neutral   \n",
       "3  31/10/2018 16:25           TweetDeck    117        44  positive   \n",
       "4  31/10/2018 15:24           TweetDeck     58        36  positive   \n",
       "\n",
       "   sentiment_value  \n",
       "0                0  \n",
       "1               -1  \n",
       "2                0  \n",
       "3                1  \n",
       "4                1  "
      ]
     },
     "execution_count": 484,
     "metadata": {},
     "output_type": "execute_result"
    }
   ],
   "source": [
    "df_textBlob.head()"
   ]
  },
  {
   "cell_type": "code",
   "execution_count": 486,
   "metadata": {},
   "outputs": [],
   "source": [
    "twitter_df = df_textBlob.copy()"
   ]
  },
  {
   "cell_type": "code",
   "execution_count": 487,
   "metadata": {},
   "outputs": [
    {
     "data": {
      "text/html": [
       "<div>\n",
       "<style scoped>\n",
       "    .dataframe tbody tr th:only-of-type {\n",
       "        vertical-align: middle;\n",
       "    }\n",
       "\n",
       "    .dataframe tbody tr th {\n",
       "        vertical-align: top;\n",
       "    }\n",
       "\n",
       "    .dataframe thead th {\n",
       "        text-align: right;\n",
       "    }\n",
       "</style>\n",
       "<table border=\"1\" class=\"dataframe\">\n",
       "  <thead>\n",
       "    <tr style=\"text-align: right;\">\n",
       "      <th></th>\n",
       "      <th>tweets</th>\n",
       "      <th>id</th>\n",
       "      <th>len</th>\n",
       "      <th>date</th>\n",
       "      <th>source</th>\n",
       "      <th>likes</th>\n",
       "      <th>retweets</th>\n",
       "      <th>sentiment</th>\n",
       "      <th>sentiment_value</th>\n",
       "    </tr>\n",
       "  </thead>\n",
       "  <tbody>\n",
       "    <tr>\n",
       "      <th>0</th>\n",
       "      <td>Bitcoin Cash Continues to Skyrocket 15% to $53...</td>\n",
       "      <td>1.060000e+18</td>\n",
       "      <td>91</td>\n",
       "      <td>4/11/2018 21:10</td>\n",
       "      <td>Twitter Web Client</td>\n",
       "      <td>396</td>\n",
       "      <td>157</td>\n",
       "      <td>neutral</td>\n",
       "      <td>0</td>\n",
       "    </tr>\n",
       "    <tr>\n",
       "      <th>1</th>\n",
       "      <td>RT @CoinSpice: Leaders in the #BCH space @ryan...</td>\n",
       "      <td>1.060000e+18</td>\n",
       "      <td>140</td>\n",
       "      <td>1/11/2018 19:14</td>\n",
       "      <td>Twitter Web Client</td>\n",
       "      <td>0</td>\n",
       "      <td>42</td>\n",
       "      <td>negative</td>\n",
       "      <td>-1</td>\n",
       "    </tr>\n",
       "    <tr>\n",
       "      <th>2</th>\n",
       "      <td>RT @HelloVoltaire: You can now use @handcashap...</td>\n",
       "      <td>1.060000e+18</td>\n",
       "      <td>140</td>\n",
       "      <td>31/10/2018 20:12</td>\n",
       "      <td>Twitter Web Client</td>\n",
       "      <td>0</td>\n",
       "      <td>49</td>\n",
       "      <td>neutral</td>\n",
       "      <td>0</td>\n",
       "    </tr>\n",
       "    <tr>\n",
       "      <th>3</th>\n",
       "      <td>\"The behemoth cryptocurrency exchange Coinbase...</td>\n",
       "      <td>1.060000e+18</td>\n",
       "      <td>140</td>\n",
       "      <td>31/10/2018 16:25</td>\n",
       "      <td>TweetDeck</td>\n",
       "      <td>117</td>\n",
       "      <td>44</td>\n",
       "      <td>positive</td>\n",
       "      <td>1</td>\n",
       "    </tr>\n",
       "    <tr>\n",
       "      <th>4</th>\n",
       "      <td>Pandacash is a “one-click” Bitcoin Cash blockc...</td>\n",
       "      <td>1.060000e+18</td>\n",
       "      <td>140</td>\n",
       "      <td>31/10/2018 15:24</td>\n",
       "      <td>TweetDeck</td>\n",
       "      <td>58</td>\n",
       "      <td>36</td>\n",
       "      <td>positive</td>\n",
       "      <td>1</td>\n",
       "    </tr>\n",
       "  </tbody>\n",
       "</table>\n",
       "</div>"
      ],
      "text/plain": [
       "                                              tweets            id  len  \\\n",
       "0  Bitcoin Cash Continues to Skyrocket 15% to $53...  1.060000e+18   91   \n",
       "1  RT @CoinSpice: Leaders in the #BCH space @ryan...  1.060000e+18  140   \n",
       "2  RT @HelloVoltaire: You can now use @handcashap...  1.060000e+18  140   \n",
       "3  \"The behemoth cryptocurrency exchange Coinbase...  1.060000e+18  140   \n",
       "4  Pandacash is a “one-click” Bitcoin Cash blockc...  1.060000e+18  140   \n",
       "\n",
       "               date              source  likes  retweets sentiment  \\\n",
       "0   4/11/2018 21:10  Twitter Web Client    396       157   neutral   \n",
       "1   1/11/2018 19:14  Twitter Web Client      0        42  negative   \n",
       "2  31/10/2018 20:12  Twitter Web Client      0        49   neutral   \n",
       "3  31/10/2018 16:25           TweetDeck    117        44  positive   \n",
       "4  31/10/2018 15:24           TweetDeck     58        36  positive   \n",
       "\n",
       "   sentiment_value  \n",
       "0                0  \n",
       "1               -1  \n",
       "2                0  \n",
       "3                1  \n",
       "4                1  "
      ]
     },
     "execution_count": 487,
     "metadata": {},
     "output_type": "execute_result"
    }
   ],
   "source": [
    "twitter_df.head()"
   ]
  },
  {
   "cell_type": "code",
   "execution_count": 488,
   "metadata": {},
   "outputs": [],
   "source": [
    "# Drop the columns not required for further manipulation.\n",
    "drop_cols = ['id','source']\n",
    "\n",
    "twitter_df.drop(drop_cols,axis=1,inplace=True)"
   ]
  },
  {
   "cell_type": "code",
   "execution_count": null,
   "metadata": {},
   "outputs": [],
   "source": [
    "# Add the columns from Vader dataframe.\n",
    "\n",
    "twitter_df['Compound'] = df_vader['Compound']\n",
    "twitter_df['Positive'] = df_vader['Positive']\n",
    "twitter_df['Neutral'] = df_vader['Neutral']\n",
    "twitter_df['Negative'] = df_vader['Negative']"
   ]
  },
  {
   "cell_type": "code",
   "execution_count": 494,
   "metadata": {},
   "outputs": [
    {
     "data": {
      "text/html": [
       "<div>\n",
       "<style scoped>\n",
       "    .dataframe tbody tr th:only-of-type {\n",
       "        vertical-align: middle;\n",
       "    }\n",
       "\n",
       "    .dataframe tbody tr th {\n",
       "        vertical-align: top;\n",
       "    }\n",
       "\n",
       "    .dataframe thead th {\n",
       "        text-align: right;\n",
       "    }\n",
       "</style>\n",
       "<table border=\"1\" class=\"dataframe\">\n",
       "  <thead>\n",
       "    <tr style=\"text-align: right;\">\n",
       "      <th></th>\n",
       "      <th>tweets</th>\n",
       "      <th>len</th>\n",
       "      <th>date</th>\n",
       "      <th>likes</th>\n",
       "      <th>retweets</th>\n",
       "      <th>sentiment</th>\n",
       "      <th>sentiment_value</th>\n",
       "      <th>Compound</th>\n",
       "      <th>Positive</th>\n",
       "      <th>Neutral</th>\n",
       "      <th>Negative</th>\n",
       "    </tr>\n",
       "  </thead>\n",
       "  <tbody>\n",
       "    <tr>\n",
       "      <th>0</th>\n",
       "      <td>Bitcoin Cash Continues to Skyrocket 15% to $53...</td>\n",
       "      <td>91</td>\n",
       "      <td>4/11/2018 21:10</td>\n",
       "      <td>396</td>\n",
       "      <td>157</td>\n",
       "      <td>neutral</td>\n",
       "      <td>0</td>\n",
       "      <td>0.0000</td>\n",
       "      <td>0.000</td>\n",
       "      <td>1.000</td>\n",
       "      <td>0.0</td>\n",
       "    </tr>\n",
       "    <tr>\n",
       "      <th>1</th>\n",
       "      <td>RT @CoinSpice: Leaders in the #BCH space @ryan...</td>\n",
       "      <td>140</td>\n",
       "      <td>1/11/2018 19:14</td>\n",
       "      <td>0</td>\n",
       "      <td>42</td>\n",
       "      <td>negative</td>\n",
       "      <td>-1</td>\n",
       "      <td>0.0000</td>\n",
       "      <td>0.000</td>\n",
       "      <td>1.000</td>\n",
       "      <td>0.0</td>\n",
       "    </tr>\n",
       "    <tr>\n",
       "      <th>2</th>\n",
       "      <td>RT @HelloVoltaire: You can now use @handcashap...</td>\n",
       "      <td>140</td>\n",
       "      <td>31/10/2018 20:12</td>\n",
       "      <td>0</td>\n",
       "      <td>49</td>\n",
       "      <td>neutral</td>\n",
       "      <td>0</td>\n",
       "      <td>0.0000</td>\n",
       "      <td>0.000</td>\n",
       "      <td>1.000</td>\n",
       "      <td>0.0</td>\n",
       "    </tr>\n",
       "    <tr>\n",
       "      <th>3</th>\n",
       "      <td>\"The behemoth cryptocurrency exchange Coinbase...</td>\n",
       "      <td>140</td>\n",
       "      <td>31/10/2018 16:25</td>\n",
       "      <td>117</td>\n",
       "      <td>44</td>\n",
       "      <td>positive</td>\n",
       "      <td>1</td>\n",
       "      <td>0.4404</td>\n",
       "      <td>0.139</td>\n",
       "      <td>0.861</td>\n",
       "      <td>0.0</td>\n",
       "    </tr>\n",
       "    <tr>\n",
       "      <th>4</th>\n",
       "      <td>Pandacash is a “one-click” Bitcoin Cash blockc...</td>\n",
       "      <td>140</td>\n",
       "      <td>31/10/2018 15:24</td>\n",
       "      <td>58</td>\n",
       "      <td>36</td>\n",
       "      <td>positive</td>\n",
       "      <td>1</td>\n",
       "      <td>0.8360</td>\n",
       "      <td>0.357</td>\n",
       "      <td>0.643</td>\n",
       "      <td>0.0</td>\n",
       "    </tr>\n",
       "  </tbody>\n",
       "</table>\n",
       "</div>"
      ],
      "text/plain": [
       "                                              tweets  len              date  \\\n",
       "0  Bitcoin Cash Continues to Skyrocket 15% to $53...   91   4/11/2018 21:10   \n",
       "1  RT @CoinSpice: Leaders in the #BCH space @ryan...  140   1/11/2018 19:14   \n",
       "2  RT @HelloVoltaire: You can now use @handcashap...  140  31/10/2018 20:12   \n",
       "3  \"The behemoth cryptocurrency exchange Coinbase...  140  31/10/2018 16:25   \n",
       "4  Pandacash is a “one-click” Bitcoin Cash blockc...  140  31/10/2018 15:24   \n",
       "\n",
       "   likes  retweets sentiment  sentiment_value  Compound  Positive  Neutral  \\\n",
       "0    396       157   neutral                0    0.0000     0.000    1.000   \n",
       "1      0        42  negative               -1    0.0000     0.000    1.000   \n",
       "2      0        49   neutral                0    0.0000     0.000    1.000   \n",
       "3    117        44  positive                1    0.4404     0.139    0.861   \n",
       "4     58        36  positive                1    0.8360     0.357    0.643   \n",
       "\n",
       "   Negative  \n",
       "0       0.0  \n",
       "1       0.0  \n",
       "2       0.0  \n",
       "3       0.0  \n",
       "4       0.0  "
      ]
     },
     "execution_count": 494,
     "metadata": {},
     "output_type": "execute_result"
    }
   ],
   "source": [
    "# Print the head\n",
    "twitter_df.head()"
   ]
  },
  {
   "cell_type": "code",
   "execution_count": 498,
   "metadata": {},
   "outputs": [
    {
     "data": {
      "text/plain": [
       "tweets              object\n",
       "len                  int64\n",
       "date                object\n",
       "likes                int64\n",
       "retweets             int64\n",
       "sentiment           object\n",
       "sentiment_value      int32\n",
       "Compound           float64\n",
       "Positive           float64\n",
       "Neutral            float64\n",
       "Negative           float64\n",
       "dtype: object"
      ]
     },
     "execution_count": 498,
     "metadata": {},
     "output_type": "execute_result"
    }
   ],
   "source": [
    "twitter_df.dtypes"
   ]
  },
  {
   "cell_type": "code",
   "execution_count": 500,
   "metadata": {},
   "outputs": [
    {
     "data": {
      "text/plain": [
       "tweets              object\n",
       "len                  int64\n",
       "date                object\n",
       "likes                int64\n",
       "retweets             int64\n",
       "sentiment           object\n",
       "sentiment_value    float64\n",
       "Compound           float64\n",
       "Positive           float64\n",
       "Neutral            float64\n",
       "Negative           float64\n",
       "dtype: object"
      ]
     },
     "execution_count": 500,
     "metadata": {},
     "output_type": "execute_result"
    }
   ],
   "source": [
    "twitter_df.sentiment_value=twitter_df.sentiment_value.astype(np.float64)\n",
    "#pd.to_numeric(twitter_df.sentiment_value, downcast='float')\n",
    "twitter_df.dtypes"
   ]
  },
  {
   "cell_type": "code",
   "execution_count": 502,
   "metadata": {},
   "outputs": [],
   "source": [
    "# Save the file\n",
    "twitter_df.to_csv('tweets_textblob_vader_sentiments.csv', sep=',',encoding='utf-8' )"
   ]
  },
  {
   "cell_type": "markdown",
   "metadata": {},
   "source": [
    "### Visualisation ::"
   ]
  },
  {
   "cell_type": "code",
   "execution_count": 495,
   "metadata": {},
   "outputs": [
    {
     "data": {
      "image/png": "[encoded data removed]",
      "text/plain": [
       "<Figure size 432x288 with 1 Axes>"
      ]
     },
     "metadata": {},
     "output_type": "display_data"
    },
    {
     "data": {
      "text/plain": [
       "<Figure size 1440x1080 with 0 Axes>"
      ]
     },
     "metadata": {},
     "output_type": "display_data"
    }
   ],
   "source": [
    "ax = sns.boxplot( x= twitter_df[\"sentiment_value\"], y = twitter_df[\"Compound\"])\n",
    "plt.figure(figsize=(12,9))\n",
    "plt.show()"
   ]
  },
  {
   "cell_type": "code",
   "execution_count": 497,
   "metadata": {},
   "outputs": [
    {
     "data": {
      "image/png": "[encoded data removed]",
      "text/plain": [
       "<Figure size 1152x288 with 1 Axes>"
      ]
     },
     "metadata": {},
     "output_type": "display_data"
    },
    {
     "data": {
      "image/png": "[encoded data removed]",
      "text/plain": [
       "<Figure size 1152x288 with 1 Axes>"
      ]
     },
     "metadata": {},
     "output_type": "display_data"
    }
   ],
   "source": [
    "time_tb = pd.Series(data=twitter_df['sentiment_value'].values, index=twitter_df['date'])\n",
    "time_tb.plot(kind='hist',figsize=(16, 4), color='r',title = 'Text Blob Sentiment Analysis')\n",
    "plt.show()\n",
    "    \n",
    "time_vd = pd.Series(data=twitter_df['Compound'].values, index=twitter_df['date'])\n",
    "time_vd.plot(kind='hist',figsize=(16, 4), color='b', title = 'Vader Sentiment Analysis')\n",
    "plt.show()"
   ]
  },
  {
   "cell_type": "code",
   "execution_count": 503,
   "metadata": {},
   "outputs": [
    {
     "data": {
      "text/html": [
       "<div>\n",
       "<style scoped>\n",
       "    .dataframe tbody tr th:only-of-type {\n",
       "        vertical-align: middle;\n",
       "    }\n",
       "\n",
       "    .dataframe tbody tr th {\n",
       "        vertical-align: top;\n",
       "    }\n",
       "\n",
       "    .dataframe thead th {\n",
       "        text-align: right;\n",
       "    }\n",
       "</style>\n",
       "<table border=\"1\" class=\"dataframe\">\n",
       "  <thead>\n",
       "    <tr style=\"text-align: right;\">\n",
       "      <th></th>\n",
       "      <th>tweets</th>\n",
       "      <th>len</th>\n",
       "      <th>date</th>\n",
       "      <th>likes</th>\n",
       "      <th>retweets</th>\n",
       "      <th>sentiment</th>\n",
       "      <th>sentiment_value</th>\n",
       "      <th>Compound</th>\n",
       "      <th>Positive</th>\n",
       "      <th>Neutral</th>\n",
       "      <th>Negative</th>\n",
       "    </tr>\n",
       "  </thead>\n",
       "  <tbody>\n",
       "    <tr>\n",
       "      <th>0</th>\n",
       "      <td>Bitcoin Cash Continues to Skyrocket 15% to $53...</td>\n",
       "      <td>91</td>\n",
       "      <td>4/11/2018 21:10</td>\n",
       "      <td>396</td>\n",
       "      <td>157</td>\n",
       "      <td>neutral</td>\n",
       "      <td>0.0</td>\n",
       "      <td>0.0</td>\n",
       "      <td>0.0</td>\n",
       "      <td>1.0</td>\n",
       "      <td>0.0</td>\n",
       "    </tr>\n",
       "    <tr>\n",
       "      <th>1</th>\n",
       "      <td>RT @CoinSpice: Leaders in the #BCH space @ryan...</td>\n",
       "      <td>140</td>\n",
       "      <td>1/11/2018 19:14</td>\n",
       "      <td>0</td>\n",
       "      <td>42</td>\n",
       "      <td>negative</td>\n",
       "      <td>-1.0</td>\n",
       "      <td>0.0</td>\n",
       "      <td>0.0</td>\n",
       "      <td>1.0</td>\n",
       "      <td>0.0</td>\n",
       "    </tr>\n",
       "  </tbody>\n",
       "</table>\n",
       "</div>"
      ],
      "text/plain": [
       "                                              tweets  len             date  \\\n",
       "0  Bitcoin Cash Continues to Skyrocket 15% to $53...   91  4/11/2018 21:10   \n",
       "1  RT @CoinSpice: Leaders in the #BCH space @ryan...  140  1/11/2018 19:14   \n",
       "\n",
       "   likes  retweets sentiment  sentiment_value  Compound  Positive  Neutral  \\\n",
       "0    396       157   neutral              0.0       0.0       0.0      1.0   \n",
       "1      0        42  negative             -1.0       0.0       0.0      1.0   \n",
       "\n",
       "   Negative  \n",
       "0       0.0  \n",
       "1       0.0  "
      ]
     },
     "execution_count": 503,
     "metadata": {},
     "output_type": "execute_result"
    }
   ],
   "source": [
    "twitter_df.head(2)"
   ]
  },
  {
   "cell_type": "code",
   "execution_count": 504,
   "metadata": {},
   "outputs": [
    {
     "data": {
      "image/png": "[encoded data removed]",
      "text/plain": [
       "<Figure size 432x288 with 1 Axes>"
      ]
     },
     "metadata": {},
     "output_type": "display_data"
    }
   ],
   "source": [
    "import matplotlib.pyplot as plt\n",
    "\n",
    "twitter_df['sentiment_value'].plot(kind='hist')\n",
    "plt.xlabel('Tweet data sentiment polarity')\n",
    "plt.ylabel('Number of tweets')\n",
    "plt.show()"
   ]
  },
  {
   "cell_type": "code",
   "execution_count": 517,
   "metadata": {},
   "outputs": [
    {
     "data": {
      "image/png": "[encoded data removed]",
      "text/plain": [
       "<Figure size 432x288 with 1 Axes>"
      ]
     },
     "metadata": {},
     "output_type": "display_data"
    }
   ],
   "source": [
    "twitter_df['Compound'].plot(kind='hist')\n",
    "plt.xlabel('Tweet data sentiment valence')\n",
    "plt.ylabel('Number of tweets')\n",
    "plt.show()"
   ]
  },
  {
   "cell_type": "markdown",
   "metadata": {},
   "source": [
    "## Conclusion ::"
   ]
  },
  {
   "cell_type": "markdown",
   "metadata": {},
   "source": [
    "- The Vader sentiment analysis would give a comparative precise sentiment analysis of the Twitter data than Text blob.\n",
    "- Also, taking into consideration that the data isn't clean but Vader works well with exclaimation, emoticon, captilisation than TextBlob. Hence, I would repeat this after the data cleaning process."
   ]
  },
  {
   "cell_type": "code",
   "execution_count": null,
   "metadata": {},
   "outputs": [],
   "source": []
  }
 ],
 "metadata": {
  "kernelspec": {
   "display_name": "Python 3",
   "language": "python",
   "name": "python3"
  },
  "language_info": {
   "codemirror_mode": {
    "name": "ipython",
    "version": 3
   },
   "file_extension": ".py",
   "mimetype": "text/x-python",
   "name": "python",
   "nbconvert_exporter": "python",
   "pygments_lexer": "ipython3",
   "version": "3.6.5"
  }
 },
 "nbformat": 4,
 "nbformat_minor": 2
}
